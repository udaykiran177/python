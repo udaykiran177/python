{
 "cells": [
  {
   "cell_type": "code",
   "execution_count": 2,
   "id": "d7d0da4c",
   "metadata": {},
   "outputs": [],
   "source": [
    "import numpy as np"
   ]
  },
  {
   "cell_type": "code",
   "execution_count": 5,
   "id": "200d73b0",
   "metadata": {},
   "outputs": [],
   "source": [
    "import pandas as pd"
   ]
  },
  {
   "cell_type": "code",
   "execution_count": 99,
   "id": "60ee3e21",
   "metadata": {},
   "outputs": [],
   "source": [
    "import scipy.stats as swe"
   ]
  },
  {
   "cell_type": "code",
   "execution_count": 101,
   "id": "11577664",
   "metadata": {},
   "outputs": [
    {
     "name": "stdout",
     "output_type": "stream",
     "text": [
      "Enter the Level of significance:0.05\n"
     ]
    },
    {
     "data": {
      "text/plain": [
       "'x=list(map(int,input().split()))\\ny=list(map(int,input().split()))\\nz=list(map(int,input().split()))\\nx1=np.array(x)\\ny1=np.array(y)\\nz1=np.array(z)'"
      ]
     },
     "execution_count": 101,
     "metadata": {},
     "output_type": "execute_result"
    }
   ],
   "source": [
    "los=float(input('Enter the Level of significance:'))\n",
    "x=list(map(int,input().split()))\n",
    "y=list(map(int,input().split()))\n",
    "z=list(map(int,input().split()))\n",
    "x1=np.array(x)\n",
    "y1=np.array(y)\n",
    "z1=np.array(z)"
   ]
  },
  {
   "cell_type": "code",
   "execution_count": 95,
   "id": "9702a28d",
   "metadata": {},
   "outputs": [
    {
     "data": {
      "text/plain": [
       "137934.45238095237"
      ]
     },
     "execution_count": 95,
     "metadata": {},
     "output_type": "execute_result"
    }
   ],
   "source": [
    "g=sum(x)+sum(y)+sum(z)\n",
    "ti_2=sum(x)**2/len(x)+sum(y)**2/len(y)+sum(z)**2/len(z)\n",
    "ti_2"
   ]
  },
  {
   "cell_type": "code",
   "execution_count": 96,
   "id": "12232602",
   "metadata": {},
   "outputs": [],
   "source": [
    "##constants\n",
    "length=len(x)+len(y)+len(z)\n",
    "rss=sum(x1*x1)+sum(y1*y1)+sum(z1*z1)\n",
    "\n",
    "cf=g**2/length\n",
    "\n",
    "s2t=rss-cf\n",
    "#s2t\n",
    "s2tr=ti_2-cf\n",
    "#s2tr\n",
    "s2e=s2t-s2tr\n",
    "#s2e"
   ]
  },
  {
   "cell_type": "code",
   "execution_count": 97,
   "id": "8140d580",
   "metadata": {},
   "outputs": [],
   "source": [
    "st=s2tr/2\n",
    "se=s2e/(length-1)\n",
    "varcal=st/se"
   ]
  },
  {
   "cell_type": "code",
   "execution_count": 98,
   "id": "b8abe793",
   "metadata": {},
   "outputs": [
    {
     "data": {
      "text/plain": [
       "2.665944702020163"
      ]
     },
     "execution_count": 98,
     "metadata": {},
     "output_type": "execute_result"
    }
   ],
   "source": [
    "varcal"
   ]
  },
  {
   "cell_type": "code",
   "execution_count": 102,
   "id": "3c723a56",
   "metadata": {},
   "outputs": [
    {
     "name": "stdout",
     "output_type": "stream",
     "text": [
      "Accept Ho\n"
     ]
    }
   ],
   "source": [
    "\n",
    "tabval=swe.f.ppf(1-los,2,length-1)\n",
    "if(varcal>tabval):\n",
    "    print('Reject Ho')\n",
    "else:\n",
    "    print('Accept Ho')"
   ]
  }
 ],
 "metadata": {
  "kernelspec": {
   "display_name": "Python 3 (ipykernel)",
   "language": "python",
   "name": "python3"
  },
  "language_info": {
   "codemirror_mode": {
    "name": "ipython",
    "version": 3
   },
   "file_extension": ".py",
   "mimetype": "text/x-python",
   "name": "python",
   "nbconvert_exporter": "python",
   "pygments_lexer": "ipython3",
   "version": "3.9.7"
  }
 },
 "nbformat": 4,
 "nbformat_minor": 5
}
