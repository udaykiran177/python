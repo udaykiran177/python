{
 "cells": [
  {
   "cell_type": "markdown",
   "id": "1dd5cac0",
   "metadata": {},
   "source": [
    "# DISCRIMINANT ANALYSIS"
   ]
  },
  {
   "cell_type": "code",
   "execution_count": 1,
   "id": "551fc8de",
   "metadata": {},
   "outputs": [],
   "source": [
    "import numpy as np\n",
    "import pandas as pd"
   ]
  },
  {
   "cell_type": "code",
   "execution_count": 77,
   "id": "cc8e9762",
   "metadata": {},
   "outputs": [
    {
     "name": "stdout",
     "output_type": "stream",
     "text": [
      "enter the no of attributes:3\n",
      "enter the name of attributesat\n",
      "1300 1260 1220 1180 1060 1140 1100 1020 980 940\n",
      "enter the name of attributegpa\n",
      "2.7 3.7 2.9 2.5 3.9 2.1 3.5 3.3 2.3 3.1\n",
      "enter the name of attributegraduation\n",
      "1 1 1 1 1 0 0 0 0 0\n"
     ]
    }
   ],
   "source": [
    "n=int(input('enter the no of attributes:'))\n",
    "d={}\n",
    "for i in range(n):\n",
    "    m=input('enter the name of attribute')\n",
    "    d[m]=list(map(float,input().split()))\n",
    "df=pd.DataFrame(d)"
   ]
  },
  {
   "cell_type": "code",
   "execution_count": 106,
   "id": "b1c88e29",
   "metadata": {},
   "outputs": [],
   "source": [
    "#df\n",
    "\n",
    "xtrans=(np.array([[1,1,1,1,1,1,1,1,1,1]\n",
    "            ,df.iloc[:,0]\n",
    "           ,df.iloc[:,1]]))\n",
    "\n",
    "y=np.array([df['graduation']])\n",
    "y=np.matrix(y).reshape(10,1)\n",
    "\n",
    "#x.reshape(7,3)"
   ]
  },
  {
   "cell_type": "code",
   "execution_count": 107,
   "id": "54871b38",
   "metadata": {},
   "outputs": [
    {
     "data": {
      "text/plain": [
       "array([[1.00e+00, 1.30e+03, 2.70e+00],\n",
       "       [1.00e+00, 1.26e+03, 3.70e+00],\n",
       "       [1.00e+00, 1.22e+03, 2.90e+00],\n",
       "       [1.00e+00, 1.18e+03, 2.50e+00],\n",
       "       [1.00e+00, 1.06e+03, 3.90e+00],\n",
       "       [1.00e+00, 1.14e+03, 2.10e+00],\n",
       "       [1.00e+00, 1.10e+03, 3.50e+00],\n",
       "       [1.00e+00, 1.02e+03, 3.30e+00],\n",
       "       [1.00e+00, 9.80e+02, 2.30e+00],\n",
       "       [1.00e+00, 9.40e+02, 3.10e+00]])"
      ]
     },
     "execution_count": 107,
     "metadata": {},
     "output_type": "execute_result"
    }
   ],
   "source": [
    "# x=np.matrix(x)\n",
    "# x=x.transpose()\n",
    "#x\n",
    "x=xtrans.transpose()\n",
    "x"
   ]
  },
  {
   "cell_type": "code",
   "execution_count": 112,
   "id": "be43f7bc",
   "metadata": {},
   "outputs": [],
   "source": [
    "res=xtrans@x\n",
    "res=np.linalg.inv(res)\n",
    "fin=res*(xtrans*y)"
   ]
  },
  {
   "cell_type": "code",
   "execution_count": 115,
   "id": "b8172426",
   "metadata": {},
   "outputs": [
    {
     "name": "stdout",
     "output_type": "stream",
     "text": [
      "[[-3.83919635]]\n",
      "[[0.00323263]]\n",
      "[[0.2395496]]\n"
     ]
    }
   ],
   "source": [
    "l=[]\n",
    "for i in fin:\n",
    "    l.append(i)\n",
    "    print(i)"
   ]
  },
  {
   "cell_type": "code",
   "execution_count": 131,
   "id": "1a04ed46",
   "metadata": {},
   "outputs": [
    {
     "name": "stdout",
     "output_type": "stream",
     "text": [
      "enter sat score of candidate:1000\n",
      "enter the gpa of candidate:2.9\n",
      "Fail\n"
     ]
    },
    {
     "data": {
      "text/plain": [
       "0.0881292316750063"
      ]
     },
     "execution_count": 131,
     "metadata": {},
     "output_type": "execute_result"
    }
   ],
   "source": [
    "sat=int(input('enter sat score of candidate:'))\n",
    "gpa=float(input('enter the gpa of candidate:'))\n",
    "mew2=float(fin[0]+sat*fin[1]+gpa*fin[2])\n",
    "if round(mew2)==0:\n",
    "    print('Fail')\n",
    "else:\n",
    "    print('Pass')\n",
    "#mew2"
   ]
  },
  {
   "cell_type": "markdown",
   "id": "87ea87dd",
   "metadata": {},
   "source": [
    "# FISCHERS DISCRIMINANT FUNCTION"
   ]
  },
  {
   "cell_type": "code",
   "execution_count": null,
   "id": "96ebfe6b",
   "metadata": {
    "scrolled": true
   },
   "outputs": [],
   "source": []
  }
 ],
 "metadata": {
  "kernelspec": {
   "display_name": "Python 3 (ipykernel)",
   "language": "python",
   "name": "python3"
  },
  "language_info": {
   "codemirror_mode": {
    "name": "ipython",
    "version": 3
   },
   "file_extension": ".py",
   "mimetype": "text/x-python",
   "name": "python",
   "nbconvert_exporter": "python",
   "pygments_lexer": "ipython3",
   "version": "3.9.7"
  }
 },
 "nbformat": 4,
 "nbformat_minor": 5
}
