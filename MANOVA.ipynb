{
 "cells": [
  {
   "cell_type": "code",
   "execution_count": 93,
   "id": "2fefb364",
   "metadata": {},
   "outputs": [],
   "source": [
    "import numpy as np\n",
    "import pandas as pd"
   ]
  },
  {
   "cell_type": "code",
   "execution_count": 94,
   "id": "2921b3e5",
   "metadata": {},
   "outputs": [
    {
     "name": "stdout",
     "output_type": "stream",
     "text": [
      "enter the no of sub groups:12\n",
      "enter the no of treatments:3\n",
      "enter the no of observations in each sub-group:2\n",
      "enter the level of significance:0.01\n"
     ]
    }
   ],
   "source": [
    "n=int(input('enter the no of sub groups:'))\n",
    "k=int(input('enter the no of treatments:'))\n",
    "p=int(input('enter the no of observations in each sub-group:'))\n",
    "los=float(input('enter the level of significance:'))"
   ]
  },
  {
   "cell_type": "code",
   "execution_count": 95,
   "id": "2e000505",
   "metadata": {},
   "outputs": [
    {
     "name": "stdout",
     "output_type": "stream",
     "text": [
      "enter the subgroups:5\n",
      "4 6\n",
      "3 7\n",
      "7 5\n",
      "4 8\n",
      "5 3\n",
      "enter the subgroups:3\n",
      "4 5\n",
      "2 7\n",
      "2 5\n",
      "enter the subgroups:4\n",
      "3 6\n",
      "6 2\n",
      "2 1\n",
      "3 4\n",
      "[[[4, 6], [3, 7], [7, 5], [4, 8], [5, 3]], [[4, 5], [2, 7], [2, 5]], [[3, 6], [6, 2], [2, 1], [3, 4]]]\n"
     ]
    }
   ],
   "source": [
    "main=[]\n",
    "\n",
    "for _ in range(k):\n",
    "    m2=[]\n",
    "    for j in range(int(input('enter the subgroups:'))):\n",
    "        l=list(map(int,input().split()))\n",
    "        m2.append(l)\n",
    "    main.append(m2)\n",
    "print(main)"
   ]
  },
  {
   "cell_type": "code",
   "execution_count": 96,
   "id": "60c48cab",
   "metadata": {},
   "outputs": [],
   "source": [
    "yi=[]\n",
    "yii=[]\n",
    "ts1=0\n",
    "ts2=0\n",
    "for i in range(len(main)):\n",
    "    #print(i,k)\n",
    "    m=[]\n",
    "    sum=0\n",
    "    length=len(main[i])\n",
    "    for j in range(length):\n",
    "        sum+=main[i][j][0]\n",
    "        #print(sum)\n",
    "    ts1+=sum\n",
    "    m.append(sum/length)\n",
    "    sum=0\n",
    "    for k in range(length):\n",
    "        sum+=main[i][k][1]\n",
    "    m.append(sum/length)\n",
    "    yi.append(m)\n",
    "    ts2+=sum\n",
    "yii.append(ts1/n)\n",
    "yii.append(ts2/n)"
   ]
  },
  {
   "cell_type": "code",
   "execution_count": 97,
   "id": "b0e7d1ff",
   "metadata": {},
   "outputs": [
    {
     "data": {
      "text/plain": [
       "[3.75, 4.916666666666667]"
      ]
     },
     "execution_count": 97,
     "metadata": {},
     "output_type": "execute_result"
    }
   ],
   "source": [
    "yii"
   ]
  },
  {
   "cell_type": "code",
   "execution_count": 98,
   "id": "445f8cea",
   "metadata": {},
   "outputs": [],
   "source": [
    "##for y1##\n",
    "SSe1=0\n",
    "SSt1=0\n",
    "\n",
    "##for y2##\n",
    "SSe2=0\n",
    "SSt2=0\n",
    "\n",
    "###for y1 and y2###\n",
    "SSe3=0\n",
    "SSt3=0\n",
    "\n",
    "for i in range(len(main)):\n",
    "    length=len(main[i])\n",
    "    for j in range(length):\n",
    "        SSe1+=(main[i][j][0]-yi[i][0])**2\n",
    "        SSe2+=(main[i][j][1]-yi[i][1])**2\n",
    "        SSe3+=(main[i][j][0]*main[i][j][1])-(yi[i][0]*yi[i][1])\n",
    "    #for k in range(length):\n",
    "#         SSt1+=(main[i][k][0]-yii[0])**2\n",
    "#         SSt2+=(main[i][k][1]-yii[1])**2\n",
    "        SSt1+=(main[i][j][0]-yii[0])**2\n",
    "        SSt2+=(main[i][j][1]-yii[1])**2\n",
    "        SSt3+=(main[i][j][0]*main[i][j][1])-(yii[0]*yii[1])\n",
    "\n",
    "        \n",
    "#print(SSe1,SSt1,SSe2,SSt2,SSe3,SSt3)\n",
    "\n",
    "SSr1=SSt1-SSe1\n",
    "SSr2=SSt2-SSe2\n",
    "SSr3=SSt3-SSe3\n"
   ]
  },
  {
   "cell_type": "code",
   "execution_count": 99,
   "id": "bfde1915",
   "metadata": {},
   "outputs": [
    {
     "name": "stdout",
     "output_type": "stream",
     "text": [
      "2.049952951980793\n"
     ]
    }
   ],
   "source": [
    "#print(SSr1,SSr2,SSr3)\n",
    "\n",
    "mw=SSe1*SSe2-SSe3**2\n",
    "mt=SSt1*SSt2-SSt3**2\n",
    "\n",
    "res=mw/mt\n",
    "from math import sqrt\n",
    "Fcal=((n-k-1)/(k-1))*((1-sqrt(res))/sqrt(res))\n",
    "print(Fcal)"
   ]
  },
  {
   "cell_type": "code",
   "execution_count": 100,
   "id": "2c6ad292",
   "metadata": {},
   "outputs": [
    {
     "name": "stdout",
     "output_type": "stream",
     "text": [
      "Homogeneous data\n"
     ]
    }
   ],
   "source": [
    "from scipy import stats\n",
    "Ftab=stats.f.ppf(1-los,2*(k-1),2*(n-k-1))\n",
    "\n",
    "if Fcal>Ftab:\n",
    "    print('No Homogeinity')\n",
    "else:\n",
    "    print('Homogeneous data')"
   ]
  }
 ],
 "metadata": {
  "kernelspec": {
   "display_name": "Python 3 (ipykernel)",
   "language": "python",
   "name": "python3"
  },
  "language_info": {
   "codemirror_mode": {
    "name": "ipython",
    "version": 3
   },
   "file_extension": ".py",
   "mimetype": "text/x-python",
   "name": "python",
   "nbconvert_exporter": "python",
   "pygments_lexer": "ipython3",
   "version": "3.9.7"
  }
 },
 "nbformat": 4,
 "nbformat_minor": 5
}
