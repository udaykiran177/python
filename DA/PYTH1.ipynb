{
 "cells": [
  {
   "cell_type": "code",
   "execution_count": 14,
   "id": "3738d8cb",
   "metadata": {},
   "outputs": [],
   "source": [
    "import numpy as np\n",
    " "
   ]
  },
  {
   "cell_type": "code",
   "execution_count": 12,
   "id": "47a6f87b",
   "metadata": {},
   "outputs": [
    {
     "name": "stdout",
     "output_type": "stream",
     "text": [
      "blas_mkl_info:\n",
      "    libraries = ['mkl_rt']\n",
      "    library_dirs = ['C:/ProgramData/Anaconda3\\\\Library\\\\lib']\n",
      "    define_macros = [('SCIPY_MKL_H', None), ('HAVE_CBLAS', None)]\n",
      "    include_dirs = ['C:/ProgramData/Anaconda3\\\\Library\\\\include']\n",
      "blas_opt_info:\n",
      "    libraries = ['mkl_rt']\n",
      "    library_dirs = ['C:/ProgramData/Anaconda3\\\\Library\\\\lib']\n",
      "    define_macros = [('SCIPY_MKL_H', None), ('HAVE_CBLAS', None)]\n",
      "    include_dirs = ['C:/ProgramData/Anaconda3\\\\Library\\\\include']\n",
      "lapack_mkl_info:\n",
      "    libraries = ['mkl_rt']\n",
      "    library_dirs = ['C:/ProgramData/Anaconda3\\\\Library\\\\lib']\n",
      "    define_macros = [('SCIPY_MKL_H', None), ('HAVE_CBLAS', None)]\n",
      "    include_dirs = ['C:/ProgramData/Anaconda3\\\\Library\\\\include']\n",
      "lapack_opt_info:\n",
      "    libraries = ['mkl_rt']\n",
      "    library_dirs = ['C:/ProgramData/Anaconda3\\\\Library\\\\lib']\n",
      "    define_macros = [('SCIPY_MKL_H', None), ('HAVE_CBLAS', None)]\n",
      "    include_dirs = ['C:/ProgramData/Anaconda3\\\\Library\\\\include']\n",
      "1.20.3 None\n"
     ]
    }
   ],
   "source": [
    "print(numpy.__version__ , numpy.show_config())"
   ]
  },
  {
   "cell_type": "code",
   "execution_count": 15,
   "id": "9a663651",
   "metadata": {},
   "outputs": [
    {
     "name": "stdout",
     "output_type": "stream",
     "text": [
      "add(x1, x2, /, out=None, *, where=True, casting='same_kind', order='K', dtype=None, subok=True[, signature, extobj])\n",
      "\n",
      "Add arguments element-wise.\n",
      "\n",
      "Parameters\n",
      "----------\n",
      "x1, x2 : array_like\n",
      "    The arrays to be added.\n",
      "    If ``x1.shape != x2.shape``, they must be broadcastable to a common\n",
      "    shape (which becomes the shape of the output).\n",
      "out : ndarray, None, or tuple of ndarray and None, optional\n",
      "    A location into which the result is stored. If provided, it must have\n",
      "    a shape that the inputs broadcast to. If not provided or None,\n",
      "    a freshly-allocated array is returned. A tuple (possible only as a\n",
      "    keyword argument) must have length equal to the number of outputs.\n",
      "where : array_like, optional\n",
      "    This condition is broadcast over the input. At locations where the\n",
      "    condition is True, the `out` array will be set to the ufunc result.\n",
      "    Elsewhere, the `out` array will retain its original value.\n",
      "    Note that if an uninitialized `out` array is created via the default\n",
      "    ``out=None``, locations within it where the condition is False will\n",
      "    remain uninitialized.\n",
      "**kwargs\n",
      "    For other keyword-only arguments, see the\n",
      "    :ref:`ufunc docs <ufuncs.kwargs>`.\n",
      "\n",
      "Returns\n",
      "-------\n",
      "add : ndarray or scalar\n",
      "    The sum of `x1` and `x2`, element-wise.\n",
      "    This is a scalar if both `x1` and `x2` are scalars.\n",
      "\n",
      "Notes\n",
      "-----\n",
      "Equivalent to `x1` + `x2` in terms of array broadcasting.\n",
      "\n",
      "Examples\n",
      "--------\n",
      ">>> np.add(1.0, 4.0)\n",
      "5.0\n",
      ">>> x1 = np.arange(9.0).reshape((3, 3))\n",
      ">>> x2 = np.arange(3.0)\n",
      ">>> np.add(x1, x2)\n",
      "array([[  0.,   2.,   4.],\n",
      "       [  3.,   5.,   7.],\n",
      "       [  6.,   8.,  10.]])\n",
      "\n",
      "The ``+`` operator can be used as a shorthand for ``np.add`` on ndarrays.\n",
      "\n",
      ">>> x1 = np.arange(9.0).reshape((3, 3))\n",
      ">>> x2 = np.arange(3.0)\n",
      ">>> x1 + x2\n",
      "array([[ 0.,  2.,  4.],\n",
      "       [ 3.,  5.,  7.],\n",
      "       [ 6.,  8., 10.]])\n"
     ]
    }
   ],
   "source": [
    "np.info(np.add)"
   ]
  },
  {
   "cell_type": "code",
   "execution_count": 18,
   "id": "68ffe887",
   "metadata": {},
   "outputs": [
    {
     "name": "stdout",
     "output_type": "stream",
     "text": [
      "not present\n"
     ]
    },
    {
     "data": {
      "text/plain": [
       "array([1, 2, 3, 4, 5, 6, 7])"
      ]
     },
     "execution_count": 18,
     "metadata": {},
     "output_type": "execute_result"
    }
   ],
   "source": [
    "l=[1,2,3,4,5,6,7]\n",
    "a=np.array(l)\n",
    "\n",
    "if 0 in a:\n",
    "    print('present')\n",
    "else:\n",
    "    print('not present')\n",
    "a"
   ]
  },
  {
   "cell_type": "code",
   "execution_count": 31,
   "id": "39bc80cb",
   "metadata": {},
   "outputs": [
    {
     "name": "stdout",
     "output_type": "stream",
     "text": [
      "[1. 1. 1. 1. 1. 1. 1. 1. 1. 1.] [0. 0. 0. 0. 0. 0. 0. 0. 0. 0.] [5 5 5 5 5 5 5 5 5 5]\n"
     ]
    }
   ],
   "source": [
    "# 4\n",
    "\n",
    "a=np.ones(10)\n",
    "b=np.zeros(10)\n",
    "c=np.array([5]*10)\n",
    "print(a,b,c)"
   ]
  },
  {
   "cell_type": "code",
   "execution_count": 61,
   "id": "ad33612d",
   "metadata": {},
   "outputs": [
    {
     "data": {
      "text/plain": [
       "array([30, 32, 34, 36, 38, 40, 42, 44, 46, 48, 50, 52, 54, 56, 58, 60, 62,\n",
       "       64, 66, 68])"
      ]
     },
     "execution_count": 61,
     "metadata": {},
     "output_type": "execute_result"
    }
   ],
   "source": [
    "\n",
    "l=np.arange(30,70,2)\n",
    "\n",
    "l"
   ]
  },
  {
   "cell_type": "code",
   "execution_count": 62,
   "id": "383e935c",
   "metadata": {},
   "outputs": [
    {
     "data": {
      "text/plain": [
       "array([[1., 1., 1.],\n",
       "       [1., 1., 1.],\n",
       "       [1., 1., 1.]])"
      ]
     },
     "execution_count": 62,
     "metadata": {},
     "output_type": "execute_result"
    }
   ],
   "source": [
    "np.ones((3,3))"
   ]
  },
  {
   "cell_type": "code",
   "execution_count": 72,
   "id": "a3f6a06d",
   "metadata": {},
   "outputs": [
    {
     "name": "stdout",
     "output_type": "stream",
     "text": [
      "[  0   1   2   3   4   5   6   7   8   9 -10 -11 -12 -13 -14  15  16  17\n",
      "  18  19  20]\n"
     ]
    }
   ],
   "source": [
    "l=np.arange(21)\n",
    "\n",
    "l[(l>9)&(l<15)]*=(-1)\n",
    "\n",
    "print(l)"
   ]
  },
  {
   "cell_type": "code",
   "execution_count": 74,
   "id": "9d00f1e9",
   "metadata": {},
   "outputs": [
    {
     "data": {
      "text/plain": [
       "(21,)"
      ]
     },
     "execution_count": 74,
     "metadata": {},
     "output_type": "execute_result"
    }
   ],
   "source": [
    "l.shape"
   ]
  },
  {
   "cell_type": "code",
   "execution_count": 86,
   "id": "89be1902",
   "metadata": {},
   "outputs": [
    {
     "data": {
      "text/plain": [
       "array([[1., 1., 1., 1., 1., 1., 1., 1., 1., 1.],\n",
       "       [1., 0., 0., 0., 0., 0., 0., 0., 0., 1.],\n",
       "       [1., 0., 0., 0., 0., 0., 0., 0., 0., 1.],\n",
       "       [1., 0., 0., 0., 0., 0., 0., 0., 0., 1.],\n",
       "       [1., 0., 0., 0., 0., 0., 0., 0., 0., 1.],\n",
       "       [1., 0., 0., 0., 0., 0., 0., 0., 0., 1.],\n",
       "       [1., 0., 0., 0., 0., 0., 0., 0., 0., 1.],\n",
       "       [1., 0., 0., 0., 0., 0., 0., 0., 0., 1.],\n",
       "       [1., 0., 0., 0., 0., 0., 0., 0., 0., 1.],\n",
       "       [1., 1., 1., 1., 1., 1., 1., 1., 1., 1.]])"
      ]
     },
     "execution_count": 86,
     "metadata": {},
     "output_type": "execute_result"
    }
   ],
   "source": [
    "a=np.zeros(100).reshape(10,10)\n",
    "# print(a)\n",
    "\n",
    "a[0]=1\n",
    "\n",
    "a[0:,0]=1\n",
    "\n",
    "a[0:,-1]=1\n",
    "\n",
    "a[-1]=1\n",
    "\n",
    "a\n"
   ]
  },
  {
   "cell_type": "code",
   "execution_count": 102,
   "id": "e45bf16c",
   "metadata": {},
   "outputs": [
    {
     "name": "stdout",
     "output_type": "stream",
     "text": [
      "[[  1.   1.   1.   1.   1.   1.   1.   1.   1.   1.]\n",
      " [  1.   0.   0.   0.   0.   0.   0.   0.   0.   1.]\n",
      " [  1.   0.   0. 100.   0.   0.   0.   0.   0.   1.]\n",
      " [  1.   0.   0.   0.   0.   0.   0.   0.   0.   1.]\n",
      " [  1.   0.   0.   0.   0.   0.   0.   0.   0.   1.]\n",
      " [  1.   0.   0.   0.   0.   0.   0.   0.   0.   1.]\n",
      " [  1.   0.   0.   0.   0.   0.   0.   0.   0.   1.]\n",
      " [  1.   0.   0.   0.   0.   0.   0.   0.   0.   1.]\n",
      " [  1.   0.   0.   0.   0.   0.   0.   0.   0.   1.]\n",
      " [  1.   1.   1.   1.   1.   1.   1.   1.   1.   1.]]\n",
      "[ 10.   2. 102.   2.   2.   2.   2.   2.   2.  10.]\n",
      "[ 10.   2.   2. 102.   2.   2.   2.   2.   2.  10.]\n",
      "136.0\n"
     ]
    }
   ],
   "source": [
    "#same array as above cell\n",
    "\n",
    "a[2][3]=100\n",
    "print(a)\n",
    "print(sum(a[:,i] for i in range(10)))\n",
    "print(sum(a))\n",
    "print(np.sum(a))"
   ]
  },
  {
   "cell_type": "code",
   "execution_count": 103,
   "id": "4272d0ca",
   "metadata": {},
   "outputs": [
    {
     "data": {
      "text/plain": [
       "True"
      ]
     },
     "execution_count": 103,
     "metadata": {},
     "output_type": "execute_result"
    }
   ],
   "source": [
    "l=[1,2,3,4,5]\n",
    "a=np.array(l)\n",
    "b=list(a)\n",
    "l==b"
   ]
  },
  {
   "cell_type": "code",
   "execution_count": 142,
   "id": "0b1240d4",
   "metadata": {},
   "outputs": [
    {
     "name": "stdout",
     "output_type": "stream",
     "text": [
      "[[[0 2 6]\n",
      "  [6 6 0]\n",
      "  [0 3 3]]\n",
      "\n",
      " [[6 6 9]\n",
      "  [1 1 4]\n",
      "  [8 3 6]]\n",
      "\n",
      " [[1 5 6]\n",
      "  [0 9 9]\n",
      "  [6 3 9]]]\n"
     ]
    }
   ],
   "source": [
    "from  random import random as rand\n",
    "\n",
    "l=np.array([rand()*10 for i in range(27)],dtype=int).reshape(3,3,3)\n",
    "print(l)"
   ]
  },
  {
   "cell_type": "code",
   "execution_count": 141,
   "id": "b1471a74",
   "metadata": {
    "scrolled": true
   },
   "outputs": [
    {
     "data": {
      "text/plain": [
       "array([[1, 0, 0, 0, 0],\n",
       "       [0, 2, 0, 0, 0],\n",
       "       [0, 0, 3, 0, 0],\n",
       "       [0, 0, 0, 4, 0],\n",
       "       [0, 0, 0, 0, 5]])"
      ]
     },
     "execution_count": 141,
     "metadata": {},
     "output_type": "execute_result"
    }
   ],
   "source": [
    "# l=np.zeros((5,5))\n",
    "\n",
    "l=np.diag([1,2,3,4,5])\n",
    "\n",
    "l\n",
    "# l.diag([i for i in range(5)])"
   ]
  },
  {
   "cell_type": "code",
   "execution_count": 153,
   "id": "f85e219a",
   "metadata": {},
   "outputs": [
    {
     "name": "stdout",
     "output_type": "stream",
     "text": [
      "[[3 6 9]\n",
      " [8 0 9]\n",
      " [2 6 5]]\n",
      "[6 9 8 9 6 5] [3 0 2]\n"
     ]
    }
   ],
   "source": [
    "l=np.array([rand()*10 for i in range(9)],dtype=int).reshape(3,3)\n",
    "\n",
    "print(l)\n",
    "\n",
    "print(l[l>4],l[l<4])"
   ]
  },
  {
   "cell_type": "code",
   "execution_count": 159,
   "id": "27cb1c16",
   "metadata": {
    "scrolled": false
   },
   "outputs": [
    {
     "name": "stdout",
     "output_type": "stream",
     "text": [
      "[[5 2 7]\n",
      " [8 9 2]\n",
      " [4 5 8]]\n",
      "[[9 8 2]\n",
      " [2 8 8]\n",
      " [8 6 3]]\n"
     ]
    },
    {
     "data": {
      "text/plain": [
       "array([2, 8, 9])"
      ]
     },
     "execution_count": 159,
     "metadata": {},
     "output_type": "execute_result"
    }
   ],
   "source": [
    "l1=np.array([rand()*10 for i in range(9)],dtype=int).reshape(3,3)\n",
    "\n",
    "print(l1)\n",
    "\n",
    "l2=np.array([rand()*10 for i in range(9)],dtype=int).reshape(3,3)\n",
    "\n",
    "print(l2)\n",
    "\n",
    "np.intersect1d(l1,l2)"
   ]
  },
  {
   "cell_type": "markdown",
   "id": "a7475ec4",
   "metadata": {},
   "source": [
    "# Lab Cycle 2"
   ]
  },
  {
   "cell_type": "code",
   "execution_count": 4,
   "id": "707ea0cc",
   "metadata": {},
   "outputs": [],
   "source": [
    "import pandas as pd\n",
    "import numpy as np"
   ]
  },
  {
   "cell_type": "code",
   "execution_count": 2,
   "id": "8007a078",
   "metadata": {
    "scrolled": true
   },
   "outputs": [
    {
     "data": {
      "text/html": [
       "<div>\n",
       "<style scoped>\n",
       "    .dataframe tbody tr th:only-of-type {\n",
       "        vertical-align: middle;\n",
       "    }\n",
       "\n",
       "    .dataframe tbody tr th {\n",
       "        vertical-align: top;\n",
       "    }\n",
       "\n",
       "    .dataframe thead th {\n",
       "        text-align: right;\n",
       "    }\n",
       "</style>\n",
       "<table border=\"1\" class=\"dataframe\">\n",
       "  <thead>\n",
       "    <tr style=\"text-align: right;\">\n",
       "      <th></th>\n",
       "      <th>fixed acidity;\"volatile acidity\";\"citric acid\";\"residual sugar\";\"chlorides\";\"free sulfur dioxide\";\"total sulfur dioxide\";\"density\";\"pH\";\"sulphates\";\"alcohol\";\"quality\"</th>\n",
       "    </tr>\n",
       "  </thead>\n",
       "  <tbody>\n",
       "    <tr>\n",
       "      <th>0</th>\n",
       "      <td>7.4;0.7;0;1.9;0.076;11;34;0.9978;3.51;0.56;9.4;5</td>\n",
       "    </tr>\n",
       "    <tr>\n",
       "      <th>1</th>\n",
       "      <td>7.8;0.88;0;2.6;0.098;25;67;0.9968;3.2;0.68;9.8;5</td>\n",
       "    </tr>\n",
       "    <tr>\n",
       "      <th>2</th>\n",
       "      <td>7.8;0.76;0.04;2.3;0.092;15;54;0.997;3.26;0.65;...</td>\n",
       "    </tr>\n",
       "    <tr>\n",
       "      <th>3</th>\n",
       "      <td>11.2;0.28;0.56;1.9;0.075;17;60;0.998;3.16;0.58...</td>\n",
       "    </tr>\n",
       "    <tr>\n",
       "      <th>4</th>\n",
       "      <td>7.4;0.7;0;1.9;0.076;11;34;0.9978;3.51;0.56;9.4;5</td>\n",
       "    </tr>\n",
       "    <tr>\n",
       "      <th>...</th>\n",
       "      <td>...</td>\n",
       "    </tr>\n",
       "    <tr>\n",
       "      <th>1594</th>\n",
       "      <td>6.2;0.6;0.08;2;0.09;32;44;0.9949;3.45;0.58;10.5;5</td>\n",
       "    </tr>\n",
       "    <tr>\n",
       "      <th>1595</th>\n",
       "      <td>5.9;0.55;0.1;2.2;0.062;39;51;0.99512;3.52;0.76...</td>\n",
       "    </tr>\n",
       "    <tr>\n",
       "      <th>1596</th>\n",
       "      <td>6.3;0.51;0.13;2.3;0.076;29;40;0.99574;3.42;0.7...</td>\n",
       "    </tr>\n",
       "    <tr>\n",
       "      <th>1597</th>\n",
       "      <td>5.9;0.645;0.12;2;0.075;32;44;0.99547;3.57;0.71...</td>\n",
       "    </tr>\n",
       "    <tr>\n",
       "      <th>1598</th>\n",
       "      <td>6;0.31;0.47;3.6;0.067;18;42;0.99549;3.39;0.66;...</td>\n",
       "    </tr>\n",
       "  </tbody>\n",
       "</table>\n",
       "<p>1599 rows × 1 columns</p>\n",
       "</div>"
      ],
      "text/plain": [
       "     fixed acidity;\"volatile acidity\";\"citric acid\";\"residual sugar\";\"chlorides\";\"free sulfur dioxide\";\"total sulfur dioxide\";\"density\";\"pH\";\"sulphates\";\"alcohol\";\"quality\"\n",
       "0      7.4;0.7;0;1.9;0.076;11;34;0.9978;3.51;0.56;9.4;5                                                                                                                     \n",
       "1      7.8;0.88;0;2.6;0.098;25;67;0.9968;3.2;0.68;9.8;5                                                                                                                     \n",
       "2     7.8;0.76;0.04;2.3;0.092;15;54;0.997;3.26;0.65;...                                                                                                                     \n",
       "3     11.2;0.28;0.56;1.9;0.075;17;60;0.998;3.16;0.58...                                                                                                                     \n",
       "4      7.4;0.7;0;1.9;0.076;11;34;0.9978;3.51;0.56;9.4;5                                                                                                                     \n",
       "...                                                 ...                                                                                                                     \n",
       "1594  6.2;0.6;0.08;2;0.09;32;44;0.9949;3.45;0.58;10.5;5                                                                                                                     \n",
       "1595  5.9;0.55;0.1;2.2;0.062;39;51;0.99512;3.52;0.76...                                                                                                                     \n",
       "1596  6.3;0.51;0.13;2.3;0.076;29;40;0.99574;3.42;0.7...                                                                                                                     \n",
       "1597  5.9;0.645;0.12;2;0.075;32;44;0.99547;3.57;0.71...                                                                                                                     \n",
       "1598  6;0.31;0.47;3.6;0.067;18;42;0.99549;3.39;0.66;...                                                                                                                     \n",
       "\n",
       "[1599 rows x 1 columns]"
      ]
     },
     "execution_count": 2,
     "metadata": {},
     "output_type": "execute_result"
    }
   ],
   "source": [
    "fil=pd.read_csv('Z:\\\\DA\\\\winequality-red.csv')\n",
    "fil"
   ]
  },
  {
   "cell_type": "code",
   "execution_count": 91,
   "id": "76908b17",
   "metadata": {},
   "outputs": [],
   "source": [
    "wines=np.genfromtxt('Z:\\\\DA\\\\winequality-red.csv',dtype=float,delimiter=';',skip_header=1)"
   ]
  },
  {
   "cell_type": "code",
   "execution_count": 14,
   "id": "c85f7469",
   "metadata": {},
   "outputs": [
    {
     "data": {
      "text/plain": [
       "(1599, 12)"
      ]
     },
     "execution_count": 14,
     "metadata": {},
     "output_type": "execute_result"
    }
   ],
   "source": [
    "wines.shape"
   ]
  },
  {
   "cell_type": "code",
   "execution_count": 41,
   "id": "15b28343",
   "metadata": {},
   "outputs": [
    {
     "data": {
      "text/plain": [
       "array([0.  , 0.  , 0.04, ..., 0.13, 0.12, 0.47])"
      ]
     },
     "execution_count": 41,
     "metadata": {},
     "output_type": "execute_result"
    }
   ],
   "source": [
    "wines[:,2]"
   ]
  },
  {
   "cell_type": "code",
   "execution_count": 54,
   "id": "06a2d68f",
   "metadata": {},
   "outputs": [
    {
     "data": {
      "text/plain": [
       "array([666., 666., 666., ..., 666., 666., 666.])"
      ]
     },
     "execution_count": 54,
     "metadata": {},
     "output_type": "execute_result"
    }
   ],
   "source": [
    "wines[1][5]=10\n",
    "wines\n",
    "\n",
    "slice_new=wines[:,9]\n",
    "slice_new[:][:]=666\n",
    "slice_new"
   ]
  },
  {
   "cell_type": "code",
   "execution_count": 75,
   "id": "05a76a07",
   "metadata": {
    "scrolled": true
   },
   "outputs": [
    {
     "name": "stdout",
     "output_type": "stream",
     "text": [
      "float64\n"
     ]
    },
    {
     "data": {
      "text/plain": [
       "array([[ 7,  0,  0, ...,  0,  9,  5],\n",
       "       [ 7,  0,  0, ...,  0,  9,  5],\n",
       "       [ 7,  0,  0, ...,  0,  9,  5],\n",
       "       ...,\n",
       "       [ 6,  0,  0, ...,  0, 11,  6],\n",
       "       [ 5,  0,  0, ...,  0, 10,  5],\n",
       "       [ 6,  0,  0, ...,  0, 11,  6]])"
      ]
     },
     "execution_count": 75,
     "metadata": {},
     "output_type": "execute_result"
    }
   ],
   "source": [
    "print(wines.dtype)\n",
    "\n",
    "\n",
    "wines1=wines.astype(int)\n",
    "wines1"
   ]
  },
  {
   "cell_type": "code",
   "execution_count": 88,
   "id": "374e09fa",
   "metadata": {
    "scrolled": true
   },
   "outputs": [
    {
     "name": "stdout",
     "output_type": "stream",
     "text": [
      "column wise :  [1.33031000e+04 8.43985000e+02 4.33290000e+02 4.05955000e+03\n",
      " 1.39859000e+02 2.53840000e+04 7.43020000e+04 1.59379794e+03\n",
      " 5.29447000e+03 1.05238000e+03 3.26563500e+04 1.68912000e+05]\n",
      "row wise :  [184.5438  233.0548  209.699   ... 210.48174 215.21547 202.49249]\n",
      "Sum of all :  152084.78194\n"
     ]
    }
   ],
   "source": [
    "wines[:,11]+=10\n",
    "\n",
    "print('column wise : ',sum(wines))\n",
    "print('row wise : ',np.sum(wines,axis=1))\n",
    "print('Sum of all : ',np.sum(arr))"
   ]
  },
  {
   "cell_type": "code",
   "execution_count": 94,
   "id": "1ee7e7dc",
   "metadata": {},
   "outputs": [
    {
     "data": {
      "text/plain": [
       "array([47., 49., 49., ..., 66., 51., 66.])"
      ]
     },
     "execution_count": 94,
     "metadata": {},
     "output_type": "execute_result"
    }
   ],
   "source": [
    "#qulity sum itself\n",
    "wines[:,-1]+wines[:,-1]\n",
    "\n",
    "wines[:,-2]*wines[:,-1]"
   ]
  },
  {
   "cell_type": "code",
   "execution_count": 122,
   "id": "f8ef727e",
   "metadata": {
    "scrolled": true
   },
   "outputs": [
    {
     "name": "stdout",
     "output_type": "stream",
     "text": [
      "greater than 5: [[11.2   0.28  0.56 ...  0.58  9.8   6.  ]\n",
      " [ 7.3   0.65  0.   ...  0.47 10.    7.  ]\n",
      " [ 7.8   0.58  0.02 ...  0.57  9.5   7.  ]\n",
      " ...\n",
      " [ 5.9   0.55  0.1  ...  0.76 11.2   6.  ]\n",
      " [ 6.3   0.51  0.13 ...  0.75 11.    6.  ]\n",
      " [ 6.    0.31  0.47 ...  0.66 11.    6.  ]]\n",
      "equal to 10: []\n",
      "Over 7 [[ 7.3   0.65  0.   ...  0.47 10.    7.  ]\n",
      " [ 7.8   0.58  0.02 ...  0.57  9.5   7.  ]\n",
      " [ 8.5   0.28  0.56 ...  0.75 10.5   7.  ]\n",
      " ...\n",
      " [ 7.4   0.36  0.3  ...  0.7  11.4   8.  ]\n",
      " [ 7.    0.56  0.17 ...  0.68 10.55  7.  ]\n",
      " [ 6.7   0.32  0.44 ...  0.8  11.6   7.  ]]\n",
      "[[7.9000e+00 3.5000e-01 4.6000e-01 3.6000e+00 7.8000e-02 1.5000e+01\n",
      "  3.7000e+01 9.9730e-01 3.3500e+00 8.6000e-01 1.2800e+01 8.0000e+00]\n",
      " [1.0300e+01 3.2000e-01 4.5000e-01 6.4000e+00 7.3000e-02 5.0000e+00\n",
      "  1.3000e+01 9.9760e-01 3.2300e+00 8.2000e-01 1.2600e+01 8.0000e+00]\n",
      " [5.6000e+00 8.5000e-01 5.0000e-02 1.4000e+00 4.5000e-02 1.2000e+01\n",
      "  8.8000e+01 9.9240e-01 3.5600e+00 8.2000e-01 1.2900e+01 8.0000e+00]\n",
      " [1.1300e+01 6.2000e-01 6.7000e-01 5.2000e+00 8.6000e-02 6.0000e+00\n",
      "  1.9000e+01 9.9880e-01 3.2200e+00 6.9000e-01 1.3400e+01 8.0000e+00]\n",
      " [9.4000e+00 3.0000e-01 5.6000e-01 2.8000e+00 8.0000e-02 6.0000e+00\n",
      "  1.7000e+01 9.9640e-01 3.1500e+00 9.2000e-01 1.1700e+01 8.0000e+00]\n",
      " [1.0700e+01 3.5000e-01 5.3000e-01 2.6000e+00 7.0000e-02 5.0000e+00\n",
      "  1.6000e+01 9.9720e-01 3.1500e+00 6.5000e-01 1.1000e+01 8.0000e+00]\n",
      " [1.0700e+01 3.5000e-01 5.3000e-01 2.6000e+00 7.0000e-02 5.0000e+00\n",
      "  1.6000e+01 9.9720e-01 3.1500e+00 6.5000e-01 1.1000e+01 8.0000e+00]\n",
      " [5.0000e+00 4.2000e-01 2.4000e-01 2.0000e+00 6.0000e-02 1.9000e+01\n",
      "  5.0000e+01 9.9170e-01 3.7200e+00 7.4000e-01 1.4000e+01 8.0000e+00]\n",
      " [7.8000e+00 5.7000e-01 9.0000e-02 2.3000e+00 6.5000e-02 3.4000e+01\n",
      "  4.5000e+01 9.9417e-01 3.4600e+00 7.4000e-01 1.2700e+01 8.0000e+00]\n",
      " [9.1000e+00 4.0000e-01 5.0000e-01 1.8000e+00 7.1000e-02 7.0000e+00\n",
      "  1.6000e+01 9.9462e-01 3.2100e+00 6.9000e-01 1.2500e+01 8.0000e+00]\n",
      " [1.0000e+01 2.6000e-01 5.4000e-01 1.9000e+00 8.3000e-02 4.2000e+01\n",
      "  7.4000e+01 9.9451e-01 2.9800e+00 6.3000e-01 1.1800e+01 8.0000e+00]\n",
      " [7.9000e+00 5.4000e-01 3.4000e-01 2.5000e+00 7.6000e-02 8.0000e+00\n",
      "  1.7000e+01 9.9235e-01 3.2000e+00 7.2000e-01 1.3100e+01 8.0000e+00]\n",
      " [8.6000e+00 4.2000e-01 3.9000e-01 1.8000e+00 6.8000e-02 6.0000e+00\n",
      "  1.2000e+01 9.9516e-01 3.3500e+00 6.9000e-01 1.1700e+01 8.0000e+00]\n",
      " [5.5000e+00 4.9000e-01 3.0000e-02 1.8000e+00 4.4000e-02 2.8000e+01\n",
      "  8.7000e+01 9.9080e-01 3.5000e+00 8.2000e-01 1.4000e+01 8.0000e+00]\n",
      " [7.2000e+00 3.8000e-01 3.1000e-01 2.0000e+00 5.6000e-02 1.5000e+01\n",
      "  2.9000e+01 9.9472e-01 3.2300e+00 7.6000e-01 1.1300e+01 8.0000e+00]\n",
      " [7.4000e+00 3.6000e-01 3.0000e-01 1.8000e+00 7.4000e-02 1.7000e+01\n",
      "  2.4000e+01 9.9419e-01 3.2400e+00 7.0000e-01 1.1400e+01 8.0000e+00]]\n"
     ]
    }
   ],
   "source": [
    "print('greater than 5:',wines[np.where(wines[:,-1]>5)])\n",
    "\n",
    "print('equal to 10:',wines[np.where(wines[:,-1]==10)])\n",
    "\n",
    "print('Over 7',wines[np.where(wines[:,-1]>6)])\n",
    "\n",
    "print(wines[np.where((wines[:,-1]>7) & (wines[:,-2]>10))])\n",
    "\n"
   ]
  },
  {
   "cell_type": "code",
   "execution_count": 127,
   "id": "f5c0eb74",
   "metadata": {},
   "outputs": [
    {
     "name": "stdout",
     "output_type": "stream",
     "text": [
      "[[7.40000e+00 7.00000e-01 0.00000e+00 ... 6.60000e+00 5.00000e-01\n",
      "  1.00000e-02]\n",
      " [1.50000e+00 6.00000e-02 1.70000e+01 ... 3.30000e+00 9.60000e-02\n",
      "  2.60000e+01]\n",
      " [6.10000e+01 1.00025e+00 3.60000e+00 ... 4.20000e+01 9.96300e-01\n",
      "  3.10000e+00]\n",
      " ...\n",
      " [2.30000e+00 7.60000e-02 2.30000e+01 ... 1.70000e+00 7.50000e-02\n",
      "  6.00000e+00]\n",
      " [2.50000e+01 9.95810e-01 3.09000e+00 ... 5.30000e+01 9.95800e-01\n",
      "  3.41000e+00]\n",
      " [6.70000e-01 9.70000e+00 5.00000e+00 ... 6.60000e-01 1.10000e+01\n",
      "  6.00000e+00]]\n"
     ]
    },
    {
     "data": {
      "text/plain": [
       "(12, 1599)"
      ]
     },
     "execution_count": 127,
     "metadata": {},
     "output_type": "execute_result"
    }
   ],
   "source": [
    "w1=wines.reshape(12, 1599)\n",
    "\n",
    "print(w1)\n",
    "\n",
    "w1.shape"
   ]
  }
 ],
 "metadata": {
  "kernelspec": {
   "display_name": "Python 3 (ipykernel)",
   "language": "python",
   "name": "python3"
  },
  "language_info": {
   "codemirror_mode": {
    "name": "ipython",
    "version": 3
   },
   "file_extension": ".py",
   "mimetype": "text/x-python",
   "name": "python",
   "nbconvert_exporter": "python",
   "pygments_lexer": "ipython3",
   "version": "3.9.7"
  }
 },
 "nbformat": 4,
 "nbformat_minor": 5
}
