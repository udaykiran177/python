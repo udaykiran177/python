{
 "cells": [
  {
   "cell_type": "code",
   "execution_count": 1,
   "id": "b524b982",
   "metadata": {},
   "outputs": [],
   "source": [
    "import numpy as np\n",
    "import pandas as pd"
   ]
  },
  {
   "cell_type": "code",
   "execution_count": 13,
   "id": "44a948b5",
   "metadata": {},
   "outputs": [
    {
     "name": "stdout",
     "output_type": "stream",
     "text": [
      "enter the no of variables:5\n",
      "enter the no of dependent variables:2\n"
     ]
    }
   ],
   "source": [
    "n=int(input('enter the no of variables:'))\n",
    "dep=int(input('enter the no of dependent variables:'))\n",
    "# l=[]\n",
    "# for i in range(n):\n",
    "#     l.append(list(map(int,input().split())))\n",
    "# print(l)"
   ]
  },
  {
   "cell_type": "code",
   "execution_count": 11,
   "id": "38212774",
   "metadata": {},
   "outputs": [
    {
     "name": "stdout",
     "output_type": "stream",
     "text": [
      "10 12 11 9 9 10 11 12 11 10 11 12\n",
      "enter the variable name:profit\n",
      "100 110 105 94 95 99 104 108 105 98 105 110\n",
      "enter the variable name:sales\n",
      "9 8 7 14 12 10 7 4 6 5 7 6\n",
      "enter the variable name:percent_absent\n",
      "62 58 64 60 63 57 55 56 59 61 57 60\n",
      "enter the variable name:breakdown\n",
      "1 1.3 1.2 0.8 0.8 0.9 1 1.2 1.1 1 1.2 1.2\n",
      "enter the variable name:m_ratio\n"
     ]
    }
   ],
   "source": [
    "df=pd.DataFrame()\n",
    "for i in range(n):\n",
    "    df[input('enter the variable name:')]=list(map(float,input().split()))"
   ]
  },
  {
   "cell_type": "code",
   "execution_count": 12,
   "id": "cb9d9342",
   "metadata": {},
   "outputs": [
    {
     "data": {
      "text/html": [
       "<div>\n",
       "<style scoped>\n",
       "    .dataframe tbody tr th:only-of-type {\n",
       "        vertical-align: middle;\n",
       "    }\n",
       "\n",
       "    .dataframe tbody tr th {\n",
       "        vertical-align: top;\n",
       "    }\n",
       "\n",
       "    .dataframe thead th {\n",
       "        text-align: right;\n",
       "    }\n",
       "</style>\n",
       "<table border=\"1\" class=\"dataframe\">\n",
       "  <thead>\n",
       "    <tr style=\"text-align: right;\">\n",
       "      <th></th>\n",
       "      <th>profit</th>\n",
       "      <th>sales</th>\n",
       "      <th>percent_absent</th>\n",
       "      <th>breakdown</th>\n",
       "      <th>m_ratio</th>\n",
       "    </tr>\n",
       "  </thead>\n",
       "  <tbody>\n",
       "    <tr>\n",
       "      <th>0</th>\n",
       "      <td>10.0</td>\n",
       "      <td>100.0</td>\n",
       "      <td>9.0</td>\n",
       "      <td>62.0</td>\n",
       "      <td>1.0</td>\n",
       "    </tr>\n",
       "    <tr>\n",
       "      <th>1</th>\n",
       "      <td>12.0</td>\n",
       "      <td>110.0</td>\n",
       "      <td>8.0</td>\n",
       "      <td>58.0</td>\n",
       "      <td>1.3</td>\n",
       "    </tr>\n",
       "    <tr>\n",
       "      <th>2</th>\n",
       "      <td>11.0</td>\n",
       "      <td>105.0</td>\n",
       "      <td>7.0</td>\n",
       "      <td>64.0</td>\n",
       "      <td>1.2</td>\n",
       "    </tr>\n",
       "    <tr>\n",
       "      <th>3</th>\n",
       "      <td>9.0</td>\n",
       "      <td>94.0</td>\n",
       "      <td>14.0</td>\n",
       "      <td>60.0</td>\n",
       "      <td>0.8</td>\n",
       "    </tr>\n",
       "    <tr>\n",
       "      <th>4</th>\n",
       "      <td>9.0</td>\n",
       "      <td>95.0</td>\n",
       "      <td>12.0</td>\n",
       "      <td>63.0</td>\n",
       "      <td>0.8</td>\n",
       "    </tr>\n",
       "    <tr>\n",
       "      <th>5</th>\n",
       "      <td>10.0</td>\n",
       "      <td>99.0</td>\n",
       "      <td>10.0</td>\n",
       "      <td>57.0</td>\n",
       "      <td>0.9</td>\n",
       "    </tr>\n",
       "    <tr>\n",
       "      <th>6</th>\n",
       "      <td>11.0</td>\n",
       "      <td>104.0</td>\n",
       "      <td>7.0</td>\n",
       "      <td>55.0</td>\n",
       "      <td>1.0</td>\n",
       "    </tr>\n",
       "    <tr>\n",
       "      <th>7</th>\n",
       "      <td>12.0</td>\n",
       "      <td>108.0</td>\n",
       "      <td>4.0</td>\n",
       "      <td>56.0</td>\n",
       "      <td>1.2</td>\n",
       "    </tr>\n",
       "    <tr>\n",
       "      <th>8</th>\n",
       "      <td>11.0</td>\n",
       "      <td>105.0</td>\n",
       "      <td>6.0</td>\n",
       "      <td>59.0</td>\n",
       "      <td>1.1</td>\n",
       "    </tr>\n",
       "    <tr>\n",
       "      <th>9</th>\n",
       "      <td>10.0</td>\n",
       "      <td>98.0</td>\n",
       "      <td>5.0</td>\n",
       "      <td>61.0</td>\n",
       "      <td>1.0</td>\n",
       "    </tr>\n",
       "    <tr>\n",
       "      <th>10</th>\n",
       "      <td>11.0</td>\n",
       "      <td>105.0</td>\n",
       "      <td>7.0</td>\n",
       "      <td>57.0</td>\n",
       "      <td>1.2</td>\n",
       "    </tr>\n",
       "    <tr>\n",
       "      <th>11</th>\n",
       "      <td>12.0</td>\n",
       "      <td>110.0</td>\n",
       "      <td>6.0</td>\n",
       "      <td>60.0</td>\n",
       "      <td>1.2</td>\n",
       "    </tr>\n",
       "  </tbody>\n",
       "</table>\n",
       "</div>"
      ],
      "text/plain": [
       "    profit  sales  percent_absent  breakdown  m_ratio\n",
       "0     10.0  100.0             9.0       62.0      1.0\n",
       "1     12.0  110.0             8.0       58.0      1.3\n",
       "2     11.0  105.0             7.0       64.0      1.2\n",
       "3      9.0   94.0            14.0       60.0      0.8\n",
       "4      9.0   95.0            12.0       63.0      0.8\n",
       "5     10.0   99.0            10.0       57.0      0.9\n",
       "6     11.0  104.0             7.0       55.0      1.0\n",
       "7     12.0  108.0             4.0       56.0      1.2\n",
       "8     11.0  105.0             6.0       59.0      1.1\n",
       "9     10.0   98.0             5.0       61.0      1.0\n",
       "10    11.0  105.0             7.0       57.0      1.2\n",
       "11    12.0  110.0             6.0       60.0      1.2"
      ]
     },
     "execution_count": 12,
     "metadata": {},
     "output_type": "execute_result"
    }
   ],
   "source": [
    "df"
   ]
  },
  {
   "cell_type": "code",
   "execution_count": 60,
   "id": "4130e157",
   "metadata": {},
   "outputs": [
    {
     "name": "stdout",
     "output_type": "stream",
     "text": [
      "enter the dependent variables:profit\n",
      "enter the dependent variables:sales\n"
     ]
    }
   ],
   "source": [
    "dependent=[]\n",
    "for i in range(dep):\n",
    "    s=input('enter the dependent variables:')\n",
    "    dependent.append(list(df[s]))"
   ]
  },
  {
   "cell_type": "code",
   "execution_count": 68,
   "id": "67e831d6",
   "metadata": {},
   "outputs": [],
   "source": [
    "\n",
    "dependent=np.array(dependent)\n",
    "dependent.shape\n",
    "dependent=dependent.T\n",
    "\n",
    "#dependent.reshape(len(df['sales']),res)"
   ]
  },
  {
   "cell_type": "code",
   "execution_count": 44,
   "id": "51844eed",
   "metadata": {},
   "outputs": [],
   "source": [
    "length=len(df['sales'])\n",
    "X=np.ones((length,1))\n",
    "X=np.hstack((X,df.iloc[:,dep:]))"
   ]
  },
  {
   "cell_type": "code",
   "execution_count": 72,
   "id": "0fc0ec1b",
   "metadata": {},
   "outputs": [
    {
     "name": "stdout",
     "output_type": "stream",
     "text": [
      "[[ 1.08969952e+01  9.23084362e+01]\n",
      " [-4.49402884e-02 -8.16332247e-03]\n",
      " [-8.77035871e-02 -3.45155575e-01]\n",
      " [ 5.03545972e+00  2.92775631e+01]]\n"
     ]
    }
   ],
   "source": [
    "Xtrans=[[X[i][j] for i in range(len(X))] for j in range(len(X[0]))]\n",
    "Xtrans\n",
    "\n",
    "res =(np.linalg.inv(Xtrans@X))@(Xtrans@dependent)\n",
    "print(res)"
   ]
  }
 ],
 "metadata": {
  "kernelspec": {
   "display_name": "Python 3 (ipykernel)",
   "language": "python",
   "name": "python3"
  },
  "language_info": {
   "codemirror_mode": {
    "name": "ipython",
    "version": 3
   },
   "file_extension": ".py",
   "mimetype": "text/x-python",
   "name": "python",
   "nbconvert_exporter": "python",
   "pygments_lexer": "ipython3",
   "version": "3.9.7"
  }
 },
 "nbformat": 4,
 "nbformat_minor": 5
}
