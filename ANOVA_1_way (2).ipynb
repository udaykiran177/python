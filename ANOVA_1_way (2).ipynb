{
 "cells": [
  {
   "cell_type": "code",
   "execution_count": 1,
   "id": "08ae91d9",
   "metadata": {},
   "outputs": [],
   "source": [
    "import numpy as np\n",
    "import pandas as pd\n",
    "from statistics import mean\n",
    "from scipy import stats"
   ]
  },
  {
   "cell_type": "code",
   "execution_count": 4,
   "id": "379d740d",
   "metadata": {},
   "outputs": [
    {
     "name": "stdout",
     "output_type": "stream",
     "text": [
      "Enter the number of treatments:4\n",
      "6 14 10 2 11\n",
      "14 9 12 10 14\n",
      "10 12 7 15 11\n",
      "9 12 8 10 11\n",
      "[array([ 6, 14, 10,  2, 11]), array([14,  9, 12, 10, 14]), array([10, 12,  7, 15, 11]), array([ 9, 12,  8, 10, 11])]\n"
     ]
    }
   ],
   "source": [
    "treat=[]\n",
    "k=int(input('Enter the number of treatments:'))\n",
    "for i in range(k):\n",
    "    treat.append(np.array(list(map(int, input().split()))))\n",
    "print(treat)"
   ]
  },
  {
   "cell_type": "code",
   "execution_count": 5,
   "id": "1e352694",
   "metadata": {},
   "outputs": [
    {
     "name": "stdout",
     "output_type": "stream",
     "text": [
      "Enter los between 0 to 100 % :1\n"
     ]
    }
   ],
   "source": [
    "los=int(input('Enter los between 0 to 100 % :'))"
   ]
  },
  {
   "cell_type": "code",
   "execution_count": 11,
   "id": "9a0b67f5",
   "metadata": {},
   "outputs": [
    {
     "name": "stdout",
     "output_type": "stream",
     "text": [
      "G: 207 \n",
      "N: 20 \n",
      "Ti2: 2171.0 \n",
      "RSS: 2323 \n",
      "CF: 2142.45 \n",
      "SST: 180.55000000000018 \n",
      "SStr: 28.550000000000182 \n",
      "SSe: 152.0\n"
     ]
    }
   ],
   "source": [
    "N,G,Ti2,RSS = 0,0,0,0\n",
    "\n",
    "#calculating RSS, N, G, Ti2\n",
    "for i in range(len(treat)):\n",
    "    sum1 = 0\n",
    "    sum2 = 0\n",
    "    for j in treat[i]:\n",
    "        RSS = RSS+j**2\n",
    "        sum1 = sum1+j\n",
    "        N = N+1\n",
    "    G = G+sum1\n",
    "    Ti2 = Ti2+sum1**2/len(treat[i])\n",
    "\n",
    "CF=G**2/N \n",
    "\n",
    "SST = RSS-CF\n",
    "\n",
    "SStr = Ti2-CF\n",
    "\n",
    "SSe = SST-SStr\n",
    "\n",
    "print('G:',G,'\\nN:',N,'\\nTi2:',Ti2,'\\nRSS:',RSS,'\\nCF:',CF,'\\nSST:',SST,'\\nSStr:',SStr,'\\nSSe:',SSe)"
   ]
  },
  {
   "cell_type": "code",
   "execution_count": 9,
   "id": "ce4c985b",
   "metadata": {},
   "outputs": [
    {
     "name": "stdout",
     "output_type": "stream",
     "text": [
      "Fcal: 1.0017543859649187\n"
     ]
    }
   ],
   "source": [
    "F = (SStr/(k-1))/(SSe/(N-k))\n",
    "print('Fcal:',F)"
   ]
  },
  {
   "cell_type": "code",
   "execution_count": 10,
   "id": "e7dbcca2",
   "metadata": {},
   "outputs": [
    {
     "name": "stdout",
     "output_type": "stream",
     "text": [
      "Ftab: 5.2922140455209465\n"
     ]
    }
   ],
   "source": [
    "Ftab = stats.f.ppf((100-los)/100, k-1, N-k)\n",
    "print('Ftab:',Ftab)"
   ]
  },
  {
   "cell_type": "code",
   "execution_count": 30,
   "id": "04c1c770",
   "metadata": {},
   "outputs": [],
   "source": [
    "ft = s.f.ppf(1-los,t-1,N-t)"
   ]
  },
  {
   "cell_type": "code",
   "execution_count": 31,
   "id": "e663c405",
   "metadata": {},
   "outputs": [
    {
     "name": "stdout",
     "output_type": "stream",
     "text": [
      "Reject H0\n"
     ]
    }
   ],
   "source": [
    "if f < ft:\n",
    "    print('Accept H0')\n",
    "else:\n",
    "    print('Reject H0')"
   ]
  },
  {
   "cell_type": "markdown",
   "id": "038091c7",
   "metadata": {},
   "source": [
    "# Two Way Classification"
   ]
  },
  {
   "cell_type": "code",
   "execution_count": 16,
   "id": "da296ae5",
   "metadata": {
    "scrolled": true
   },
   "outputs": [
    {
     "name": "stdout",
     "output_type": "stream",
     "text": [
      "enter the no of treatments:3\n",
      "13 7 9 3\n",
      "6 6 3 1\n",
      "11 5 15 5\n",
      "[array([13,  7,  9,  3]), array([6, 6, 3, 1]), array([11,  5, 15,  5])]\n"
     ]
    }
   ],
   "source": [
    "l=[]\n",
    "for _ in range(int(input('enter the no of treatments:'))):\n",
    "    l.append(np.array(list(map(int,input().split()))))\n",
    "print(l)"
   ]
  },
  {
   "cell_type": "code",
   "execution_count": 50,
   "id": "08e4e9f2",
   "metadata": {},
   "outputs": [],
   "source": [
    "n=len(l)\n",
    "bj=[]\n",
    "for i in range(len(l[0])):\n",
    "    sum=0\n",
    "    for j in range(n):\n",
    "        #print(l[j][i])\n",
    "        sum+=l[j][i]\n",
    "    #print()\n",
    "    bj.append(sum**2)\n",
    "    "
   ]
  },
  {
   "cell_type": "code",
   "execution_count": 18,
   "id": "3663c641",
   "metadata": {},
   "outputs": [
    {
     "data": {
      "text/plain": [
       "7"
      ]
     },
     "execution_count": 18,
     "metadata": {},
     "output_type": "execute_result"
    }
   ],
   "source": [
    "l[0][1]"
   ]
  },
  {
   "cell_type": "code",
   "execution_count": 51,
   "id": "0f57afb1",
   "metadata": {},
   "outputs": [
    {
     "data": {
      "text/plain": [
       "[900, 324, 729, 81]"
      ]
     },
     "execution_count": 51,
     "metadata": {},
     "output_type": "execute_result"
    }
   ],
   "source": [
    "bj"
   ]
  },
  {
   "cell_type": "code",
   "execution_count": 75,
   "id": "9fda9a2b",
   "metadata": {},
   "outputs": [],
   "source": [
    "ti=[]\n",
    "ti2=[]\n",
    "RSS=0\n",
    "for i in range(n):\n",
    "    sum=0\n",
    "    for j in range(len(l[0])):\n",
    "        #print(l[i][j])\n",
    "        ##for the rss fro further steps\n",
    "        RSS+=l[i][j]**2\n",
    "        sum+=l[i][j]\n",
    "    #for ti2 and ti\n",
    "    ti2.append(sum**2)\n",
    "    ti.append(sum)\n"
   ]
  },
  {
   "cell_type": "code",
   "execution_count": 76,
   "id": "081e23a6",
   "metadata": {},
   "outputs": [],
   "source": [
    "\n",
    "def add(l):\n",
    "    s=0\n",
    "    for i in l:\n",
    "        s+=i\n",
    "    return s\n",
    "#ti.append(add(bj))\n",
    "G=add(ti)\n",
    "Sum_Ti2=add(ti2)\n",
    "Sum_bi2=add(bj)"
   ]
  },
  {
   "cell_type": "code",
   "execution_count": 78,
   "id": "ca526543",
   "metadata": {},
   "outputs": [
    {
     "data": {
      "text/plain": [
       "52.0"
      ]
     },
     "execution_count": 78,
     "metadata": {},
     "output_type": "execute_result"
    }
   ],
   "source": [
    "##required values\n",
    "\n",
    "cf=G**2/(n*len(l[0]))\n",
    "SST=RSS-cf\n",
    "#SST\n",
    "SSTr=Sum_Ti2/len(l[0])-cf\n",
    "#SSTr\n",
    "SSB=Sum_bi2/len(l)-cf\n",
    "#SSB\n",
    "SSE=SST-SSB-SSTr\n",
    "SSE"
   ]
  },
  {
   "cell_type": "code",
   "execution_count": 92,
   "id": "00ecb1ef",
   "metadata": {},
   "outputs": [
    {
     "name": "stdout",
     "output_type": "stream",
     "text": [
      "3.230769230769231 3.4615384615384617\n"
     ]
    }
   ],
   "source": [
    "##table values of sumofsquares\n",
    "\n",
    "SSSquares1=SSTr/(n-1)\n",
    "SSSquares2=SSB/(len(l[0])-1)\n",
    "SSSquares3=SSE/((n-1)*(len(l[0])-1))\n",
    "Ftr=SSSquares1/SSSquares3\n",
    "Fb=SSSquares2/SSSquares3\n",
    "print(Ftr,Fb)"
   ]
  },
  {
   "cell_type": "code",
   "execution_count": 89,
   "id": "343c291d",
   "metadata": {},
   "outputs": [
    {
     "data": {
      "text/plain": [
       "28.550000000000182"
      ]
     },
     "execution_count": 89,
     "metadata": {},
     "output_type": "execute_result"
    }
   ],
   "source": [
    "##table values of ttable,btable"
   ]
  }
 ],
 "metadata": {
  "kernelspec": {
   "display_name": "Python 3",
   "language": "python",
   "name": "python3"
  },
  "language_info": {
   "codemirror_mode": {
    "name": "ipython",
    "version": 3
   },
   "file_extension": ".py",
   "mimetype": "text/x-python",
   "name": "python",
   "nbconvert_exporter": "python",
   "pygments_lexer": "ipython3",
   "version": "3.8.8"
  }
 },
 "nbformat": 4,
 "nbformat_minor": 5
}
