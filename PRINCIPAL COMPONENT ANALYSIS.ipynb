{
 "cells": [
  {
   "cell_type": "code",
   "execution_count": 2,
   "id": "cb8cdcca",
   "metadata": {},
   "outputs": [],
   "source": [
    "import pandas as pd\n",
    "import numpy as np"
   ]
  },
  {
   "cell_type": "code",
   "execution_count": 21,
   "id": "0421cfd3",
   "metadata": {
    "scrolled": true
   },
   "outputs": [
    {
     "name": "stdout",
     "output_type": "stream",
     "text": [
      "enter the no of attributes:2\n",
      "enter the name:x1\n",
      "2 1 0 -1\n",
      "enter the name:x2\n",
      "4 3 1 0.5\n"
     ]
    },
    {
     "data": {
      "text/plain": [
       "array([[ 2. ,  1. ,  0. , -1. ],\n",
       "       [ 4. ,  3. ,  1. ,  0.5]])"
      ]
     },
     "execution_count": 21,
     "metadata": {},
     "output_type": "execute_result"
    }
   ],
   "source": [
    "n=int(input('enter the no of attributes:'))\n",
    "\n",
    "df=pd.DataFrame()\n",
    "x=[]\n",
    "for i in range(n):\n",
    "    m=input('enter the name:')\n",
    "    df[m]=list(map(float,input().split()))\n",
    "    x.append(df[m])\n",
    "x=np.array(x)\n",
    "x"
   ]
  },
  {
   "cell_type": "code",
   "execution_count": 22,
   "id": "3b121d03",
   "metadata": {},
   "outputs": [],
   "source": [
    "from statistics import mean\n",
    "\n",
    "mew=[mean(df['x1']),mean(df['x2'])]\n",
    "\n",
    "for i in range(len(x[0])):\n",
    "    x[0][i]-=mew[0]\n",
    "    x[1][i]-=mew[1]"
   ]
  },
  {
   "cell_type": "code",
   "execution_count": 27,
   "id": "67b3b1af",
   "metadata": {},
   "outputs": [
    {
     "name": "stdout",
     "output_type": "stream",
     "text": [
      "[0.03593674 3.26093826] [[-0.78964958 -0.6135581 ]\n",
      " [ 0.6135581  -0.78964958]]\n"
     ]
    }
   ],
   "source": [
    "c=(x@x.transpose())/len(x[0])\n",
    "\n",
    "\n",
    "##eigen vector and values\n",
    "##a-eigen values\n",
    "##b-eigen vectors\n",
    "a,b=np.linalg.eig(c)\n",
    "\n",
    "#print(a,b)"
   ]
  },
  {
   "cell_type": "code",
   "execution_count": 33,
   "id": "6c52f1b3",
   "metadata": {},
   "outputs": [
    {
     "name": "stdout",
     "output_type": "stream",
     "text": [
      "[-0.78964958 -0.6135581 ] [ 0.6135581  -0.78964958]\n"
     ]
    }
   ],
   "source": [
    "##normalisation\n",
    "\n",
    "from math import sqrt\n",
    "\n",
    "l1=b[0]\n",
    "l2=b[1]\n",
    "\n",
    "sqr=[sqrt(l1[0]**2+l1[1]**2),sqrt(l2[0]**2+l2[1]**2)]\n",
    "\n",
    "for i in range(len(l1)):\n",
    "    l1[i]=l1[i]/sqr[0]\n",
    "    \n",
    "for j in range(len(l2)):\n",
    "    l2[i]=l2[i]/sqr[1]\n",
    "print(l1,l2)"
   ]
  },
  {
   "cell_type": "code",
   "execution_count": 32,
   "id": "f3c91348",
   "metadata": {
    "scrolled": true
   },
   "outputs": [
    {
     "data": {
      "text/html": [
       "<div>\n",
       "<style scoped>\n",
       "    .dataframe tbody tr th:only-of-type {\n",
       "        vertical-align: middle;\n",
       "    }\n",
       "\n",
       "    .dataframe tbody tr th {\n",
       "        vertical-align: top;\n",
       "    }\n",
       "\n",
       "    .dataframe thead th {\n",
       "        text-align: right;\n",
       "    }\n",
       "</style>\n",
       "<table border=\"1\" class=\"dataframe\">\n",
       "  <thead>\n",
       "    <tr style=\"text-align: right;\">\n",
       "      <th></th>\n",
       "      <th>x1</th>\n",
       "      <th>x2</th>\n",
       "      <th>z1</th>\n",
       "      <th>z2</th>\n",
       "    </tr>\n",
       "  </thead>\n",
       "  <tbody>\n",
       "    <tr>\n",
       "      <th>0</th>\n",
       "      <td>2.0</td>\n",
       "      <td>4.0</td>\n",
       "      <td>-4.033532</td>\n",
       "      <td>-1.931482</td>\n",
       "    </tr>\n",
       "    <tr>\n",
       "      <th>1</th>\n",
       "      <td>1.0</td>\n",
       "      <td>3.0</td>\n",
       "      <td>-2.630324</td>\n",
       "      <td>-1.755391</td>\n",
       "    </tr>\n",
       "    <tr>\n",
       "      <th>2</th>\n",
       "      <td>0.0</td>\n",
       "      <td>1.0</td>\n",
       "      <td>-0.613558</td>\n",
       "      <td>-0.789650</td>\n",
       "    </tr>\n",
       "    <tr>\n",
       "      <th>3</th>\n",
       "      <td>-1.0</td>\n",
       "      <td>0.5</td>\n",
       "      <td>0.482871</td>\n",
       "      <td>-1.008383</td>\n",
       "    </tr>\n",
       "  </tbody>\n",
       "</table>\n",
       "</div>"
      ],
      "text/plain": [
       "    x1   x2        z1        z2\n",
       "0  2.0  4.0 -4.033532 -1.931482\n",
       "1  1.0  3.0 -2.630324 -1.755391\n",
       "2  0.0  1.0 -0.613558 -0.789650\n",
       "3 -1.0  0.5  0.482871 -1.008383"
      ]
     },
     "execution_count": 32,
     "metadata": {},
     "output_type": "execute_result"
    }
   ],
   "source": [
    "df1=pd.DataFrame({'x1':df['x1'],'x2':df['x2']})\n",
    "\n",
    "df1['z1']=(l1[0])*df['x1']+(l1[1])*df['x2']\n",
    "df1['z2']=(l2[0])*df['x1']+(l2[1])*df['x2']\n",
    "\n",
    "df1"
   ]
  },
  {
   "cell_type": "code",
   "execution_count": null,
   "id": "bd65202e",
   "metadata": {},
   "outputs": [],
   "source": []
  }
 ],
 "metadata": {
  "kernelspec": {
   "display_name": "Python 3 (ipykernel)",
   "language": "python",
   "name": "python3"
  },
  "language_info": {
   "codemirror_mode": {
    "name": "ipython",
    "version": 3
   },
   "file_extension": ".py",
   "mimetype": "text/x-python",
   "name": "python",
   "nbconvert_exporter": "python",
   "pygments_lexer": "ipython3",
   "version": "3.9.7"
  }
 },
 "nbformat": 4,
 "nbformat_minor": 5
}
