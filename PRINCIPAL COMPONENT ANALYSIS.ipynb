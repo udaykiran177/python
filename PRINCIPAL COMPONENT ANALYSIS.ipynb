{
 "cells": [
  {
   "cell_type": "code",
   "execution_count": 1,
   "id": "cb8cdcca",
   "metadata": {},
   "outputs": [],
   "source": [
    "import pandas as pd\n",
    "import numpy as np"
   ]
  },
  {
   "cell_type": "code",
   "execution_count": 20,
   "id": "0421cfd3",
   "metadata": {},
   "outputs": [
    {
     "name": "stdout",
     "output_type": "stream",
     "text": [
      "enter the no of attributes:2\n",
      "enter the name:x1\n",
      "2 1 0 -1\n",
      "enter the name:x2\n",
      "4 3 1 0.5\n"
     ]
    },
    {
     "data": {
      "text/plain": [
       "array([[ 2. ,  1. ,  0. , -1. ],\n",
       "       [ 4. ,  3. ,  1. ,  0.5]])"
      ]
     },
     "execution_count": 20,
     "metadata": {},
     "output_type": "execute_result"
    }
   ],
   "source": [
    "n=int(input('enter the no of attributes:'))\n",
    "\n",
    "df=pd.DataFrame()\n",
    "x=[]\n",
    "for i in range(n):\n",
    "    m=input('enter the name:')\n",
    "    df[m]=list(map(float,input().split()))\n",
    "    x.append(df[m])\n",
    "x=np.array(x)\n",
    "x"
   ]
  },
  {
   "cell_type": "code",
   "execution_count": 27,
   "id": "3b121d03",
   "metadata": {},
   "outputs": [],
   "source": [
    "from statistics import mean\n",
    "\n",
    "mew=[mean(df['x1']),mean(df['x2'])]\n",
    "\n",
    "for i in range(len(x[0])):\n",
    "    x[0][i]-=mew[0]\n",
    "    x[1][i]-=mew[1]"
   ]
  },
  {
   "cell_type": "code",
   "execution_count": 31,
   "id": "67b3b1af",
   "metadata": {},
   "outputs": [
    {
     "data": {
      "text/plain": [
       "array([[1.25    , 1.5625  ],\n",
       "       [1.5625  , 2.046875]])"
      ]
     },
     "execution_count": 31,
     "metadata": {},
     "output_type": "execute_result"
    }
   ],
   "source": [
    "c=(x@x.transpose())/len(x[0])\n",
    "\n"
   ]
  }
 ],
 "metadata": {
  "kernelspec": {
   "display_name": "Python 3 (ipykernel)",
   "language": "python",
   "name": "python3"
  },
  "language_info": {
   "codemirror_mode": {
    "name": "ipython",
    "version": 3
   },
   "file_extension": ".py",
   "mimetype": "text/x-python",
   "name": "python",
   "nbconvert_exporter": "python",
   "pygments_lexer": "ipython3",
   "version": "3.9.7"
  }
 },
 "nbformat": 4,
 "nbformat_minor": 5
}
