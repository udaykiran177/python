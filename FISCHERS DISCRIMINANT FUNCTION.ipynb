{
 "cells": [
  {
   "cell_type": "markdown",
   "id": "415de310",
   "metadata": {},
   "source": [
    "# Fischers Discrminant Analysis"
   ]
  },
  {
   "cell_type": "code",
   "execution_count": 2,
   "id": "2d48c482",
   "metadata": {},
   "outputs": [],
   "source": [
    "import numpy as np\n",
    "import pandas as pd"
   ]
  },
  {
   "cell_type": "code",
   "execution_count": 29,
   "id": "4cfcb458",
   "metadata": {},
   "outputs": [
    {
     "name": "stdout",
     "output_type": "stream",
     "text": [
      "enter the no of attributes :3\n",
      "enter the name of attribute :x1\n",
      "1300 1260 1220 1180 1060 1140 1100 1020 980 940\n",
      "enter the name of attribute :x2\n",
      "2.7 3.7 2.9 2.5 3.9 2.1 3.5 3.3 2.3 3.1\n",
      "enter the name of attribute :ones\n",
      "1 1 1 1 1 0 0 0 0 0\n",
      "enter the curvature of chip:1000\n",
      "enter the diameter of the chip:2.9\n"
     ]
    },
    {
     "data": {
      "text/html": [
       "<div>\n",
       "<style scoped>\n",
       "    .dataframe tbody tr th:only-of-type {\n",
       "        vertical-align: middle;\n",
       "    }\n",
       "\n",
       "    .dataframe tbody tr th {\n",
       "        vertical-align: top;\n",
       "    }\n",
       "\n",
       "    .dataframe thead th {\n",
       "        text-align: right;\n",
       "    }\n",
       "</style>\n",
       "<table border=\"1\" class=\"dataframe\">\n",
       "  <thead>\n",
       "    <tr style=\"text-align: right;\">\n",
       "      <th></th>\n",
       "      <th>x1</th>\n",
       "      <th>x2</th>\n",
       "      <th>ones</th>\n",
       "    </tr>\n",
       "  </thead>\n",
       "  <tbody>\n",
       "    <tr>\n",
       "      <th>0</th>\n",
       "      <td>1300.0</td>\n",
       "      <td>2.7</td>\n",
       "      <td>1.0</td>\n",
       "    </tr>\n",
       "    <tr>\n",
       "      <th>1</th>\n",
       "      <td>1260.0</td>\n",
       "      <td>3.7</td>\n",
       "      <td>1.0</td>\n",
       "    </tr>\n",
       "    <tr>\n",
       "      <th>2</th>\n",
       "      <td>1220.0</td>\n",
       "      <td>2.9</td>\n",
       "      <td>1.0</td>\n",
       "    </tr>\n",
       "    <tr>\n",
       "      <th>3</th>\n",
       "      <td>1180.0</td>\n",
       "      <td>2.5</td>\n",
       "      <td>1.0</td>\n",
       "    </tr>\n",
       "    <tr>\n",
       "      <th>4</th>\n",
       "      <td>1060.0</td>\n",
       "      <td>3.9</td>\n",
       "      <td>1.0</td>\n",
       "    </tr>\n",
       "    <tr>\n",
       "      <th>5</th>\n",
       "      <td>1140.0</td>\n",
       "      <td>2.1</td>\n",
       "      <td>0.0</td>\n",
       "    </tr>\n",
       "    <tr>\n",
       "      <th>6</th>\n",
       "      <td>1100.0</td>\n",
       "      <td>3.5</td>\n",
       "      <td>0.0</td>\n",
       "    </tr>\n",
       "    <tr>\n",
       "      <th>7</th>\n",
       "      <td>1020.0</td>\n",
       "      <td>3.3</td>\n",
       "      <td>0.0</td>\n",
       "    </tr>\n",
       "    <tr>\n",
       "      <th>8</th>\n",
       "      <td>980.0</td>\n",
       "      <td>2.3</td>\n",
       "      <td>0.0</td>\n",
       "    </tr>\n",
       "    <tr>\n",
       "      <th>9</th>\n",
       "      <td>940.0</td>\n",
       "      <td>3.1</td>\n",
       "      <td>0.0</td>\n",
       "    </tr>\n",
       "  </tbody>\n",
       "</table>\n",
       "</div>"
      ],
      "text/plain": [
       "       x1   x2  ones\n",
       "0  1300.0  2.7   1.0\n",
       "1  1260.0  3.7   1.0\n",
       "2  1220.0  2.9   1.0\n",
       "3  1180.0  2.5   1.0\n",
       "4  1060.0  3.9   1.0\n",
       "5  1140.0  2.1   0.0\n",
       "6  1100.0  3.5   0.0\n",
       "7  1020.0  3.3   0.0\n",
       "8   980.0  2.3   0.0\n",
       "9   940.0  3.1   0.0"
      ]
     },
     "execution_count": 29,
     "metadata": {},
     "output_type": "execute_result"
    }
   ],
   "source": [
    "n=int(input('enter the no of attributes :'))\n",
    "df=pd.DataFrame()\n",
    "for i in range(n):\n",
    "    m=input('enter the name of attribute :')\n",
    "    df[m]=list(map(float,input().split()))\n",
    "    \n",
    "xk=[0,0]\n",
    "\n",
    "xk[0]=float(input('enter the curvature of chip:'))\n",
    "xk[1]=float(input('enter the diameter of the chip:'))\n",
    "df"
   ]
  },
  {
   "cell_type": "code",
   "execution_count": 30,
   "id": "aaefe917",
   "metadata": {},
   "outputs": [
    {
     "data": {
      "text/plain": [
       "array([[1300. , 1260. , 1220. , 1180. , 1060. , 1140. , 1100. , 1020. ,\n",
       "         980. ,  940. ],\n",
       "       [   2.7,    3.7,    2.9,    2.5,    3.9,    2.1,    3.5,    3.3,\n",
       "           2.3,    3.1]])"
      ]
     },
     "execution_count": 30,
     "metadata": {},
     "output_type": "execute_result"
    }
   ],
   "source": [
    "x1=[]\n",
    "x2=[]\n",
    "for i in range(len(df)):\n",
    "    l=[]\n",
    "    if df['ones'][i]==1:\n",
    "        l.append(df['x1'][i])\n",
    "        l.append(df['x2'][i])\n",
    "        x1.append(l)\n",
    "    else:\n",
    "        l.append(df['x1'][i])\n",
    "        l.append(df['x2'][i])\n",
    "        x2.append(l)\n",
    "x=np.array([df['x1'],\n",
    "           df['x2']])\n",
    "x"
   ]
  },
  {
   "cell_type": "code",
   "execution_count": 31,
   "id": "b1eddab2",
   "metadata": {},
   "outputs": [],
   "source": [
    "def men(a):\n",
    "    m1,m2=0,0\n",
    "    for i in a:\n",
    "        m1+=i[0]\n",
    "        m2+=i[1]\n",
    "    return [m1/len(a),m2/len(a)]\n",
    "mew1=men(x1)\n",
    "mew2=men(x2)\n",
    "mew=[]\n",
    "m1,m2=0,0\n",
    "for i in range(len(x[0])):\n",
    "        m1+=x[0][i]\n",
    "        m2+=x[1][i]\n",
    "mew.append(m1/len(x[0]))\n",
    "mew.append(m2/len(x[0]))"
   ]
  },
  {
   "cell_type": "code",
   "execution_count": 32,
   "id": "31a876e5",
   "metadata": {
    "scrolled": true
   },
   "outputs": [
    {
     "data": {
      "text/plain": [
       "array([[ 1.8e+02,  1.4e+02,  1.0e+02,  6.0e+01, -6.0e+01,  2.0e+01,\n",
       "        -2.0e+01, -1.0e+02, -1.4e+02, -1.8e+02],\n",
       "       [-3.0e-01,  7.0e-01, -1.0e-01, -5.0e-01,  9.0e-01, -9.0e-01,\n",
       "         5.0e-01,  3.0e-01, -7.0e-01,  1.0e-01]])"
      ]
     },
     "execution_count": 32,
     "metadata": {},
     "output_type": "execute_result"
    }
   ],
   "source": [
    "#### x-mew\n",
    "\n",
    "for i in range(len (x[0])):\n",
    "    x[0][i]-=mew[0]\n",
    "    \n",
    "    x[1][i]-=mew[1]\n",
    "x"
   ]
  },
  {
   "cell_type": "code",
   "execution_count": 33,
   "id": "b4c75289",
   "metadata": {},
   "outputs": [
    {
     "name": "stdout",
     "output_type": "stream",
     "text": [
      "the observation belongs to group-2\n"
     ]
    }
   ],
   "source": [
    "from cmath import log\n",
    "\n",
    "xtrans=np.array(x).transpose()\n",
    "\n",
    "c=(x@xtrans)/len(x[0])\n",
    "\n",
    "#print(c)\n",
    "\n",
    "cinv=np.linalg.inv(c)\n",
    "\n",
    "\n",
    "\n",
    "xk=np.array(xk).transpose()\n",
    "\n",
    "f1=(mew1@cinv@xk)-0.5*(mew1@cinv@(np.array(mew1).transpose()))+log(len(x1)/len(x[0]))\n",
    "\n",
    "f2=(mew2@cinv@xk)-0.5*(mew2@cinv@(np.array(mew2).transpose()))+log(len(x2)/len(x[0]))\n",
    "\n",
    "if f1>f2:\n",
    "    print('the observation belongs to group-1')\n",
    "    \n",
    "else:\n",
    "    print('the observation belongs to group-2')"
   ]
  },
  {
   "cell_type": "code",
   "execution_count": 28,
   "id": "b1179d34",
   "metadata": {},
   "outputs": [
    {
     "data": {
      "text/plain": [
       "(1.7124377977741894+0j)"
      ]
     },
     "execution_count": 28,
     "metadata": {},
     "output_type": "execute_result"
    }
   ],
   "source": [
    "f2"
   ]
  }
 ],
 "metadata": {
  "kernelspec": {
   "display_name": "Python 3 (ipykernel)",
   "language": "python",
   "name": "python3"
  },
  "language_info": {
   "codemirror_mode": {
    "name": "ipython",
    "version": 3
   },
   "file_extension": ".py",
   "mimetype": "text/x-python",
   "name": "python",
   "nbconvert_exporter": "python",
   "pygments_lexer": "ipython3",
   "version": "3.9.7"
  }
 },
 "nbformat": 4,
 "nbformat_minor": 5
}
