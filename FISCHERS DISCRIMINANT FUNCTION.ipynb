{
 "cells": [
  {
   "cell_type": "code",
   "execution_count": 1,
   "id": "2d48c482",
   "metadata": {},
   "outputs": [],
   "source": [
    "import numpy as np\n",
    "import pandas as pd"
   ]
  },
  {
   "cell_type": "code",
   "execution_count": 47,
   "id": "4cfcb458",
   "metadata": {},
   "outputs": [
    {
     "name": "stdout",
     "output_type": "stream",
     "text": [
      "enter the no of attributes :3\n",
      "enter the name of attribute :curvature\n",
      "2.95 2.53 3.57 3.16 2.58 2.16 3.27\n",
      "enter the name of attribute :diameter\n",
      "6.63 7.79 5.65 5.47 4.46 6.22 3.52\n",
      "enter the name of attribute :quality control\n",
      "1 1 1 1 0 0 0\n"
     ]
    },
    {
     "data": {
      "text/html": [
       "<div>\n",
       "<style scoped>\n",
       "    .dataframe tbody tr th:only-of-type {\n",
       "        vertical-align: middle;\n",
       "    }\n",
       "\n",
       "    .dataframe tbody tr th {\n",
       "        vertical-align: top;\n",
       "    }\n",
       "\n",
       "    .dataframe thead th {\n",
       "        text-align: right;\n",
       "    }\n",
       "</style>\n",
       "<table border=\"1\" class=\"dataframe\">\n",
       "  <thead>\n",
       "    <tr style=\"text-align: right;\">\n",
       "      <th></th>\n",
       "      <th>curvature</th>\n",
       "      <th>diameter</th>\n",
       "      <th>quality control</th>\n",
       "    </tr>\n",
       "  </thead>\n",
       "  <tbody>\n",
       "    <tr>\n",
       "      <th>0</th>\n",
       "      <td>2.95</td>\n",
       "      <td>6.63</td>\n",
       "      <td>1.0</td>\n",
       "    </tr>\n",
       "    <tr>\n",
       "      <th>1</th>\n",
       "      <td>2.53</td>\n",
       "      <td>7.79</td>\n",
       "      <td>1.0</td>\n",
       "    </tr>\n",
       "    <tr>\n",
       "      <th>2</th>\n",
       "      <td>3.57</td>\n",
       "      <td>5.65</td>\n",
       "      <td>1.0</td>\n",
       "    </tr>\n",
       "    <tr>\n",
       "      <th>3</th>\n",
       "      <td>3.16</td>\n",
       "      <td>5.47</td>\n",
       "      <td>1.0</td>\n",
       "    </tr>\n",
       "    <tr>\n",
       "      <th>4</th>\n",
       "      <td>2.58</td>\n",
       "      <td>4.46</td>\n",
       "      <td>0.0</td>\n",
       "    </tr>\n",
       "    <tr>\n",
       "      <th>5</th>\n",
       "      <td>2.16</td>\n",
       "      <td>6.22</td>\n",
       "      <td>0.0</td>\n",
       "    </tr>\n",
       "    <tr>\n",
       "      <th>6</th>\n",
       "      <td>3.27</td>\n",
       "      <td>3.52</td>\n",
       "      <td>0.0</td>\n",
       "    </tr>\n",
       "  </tbody>\n",
       "</table>\n",
       "</div>"
      ],
      "text/plain": [
       "   curvature  diameter  quality control\n",
       "0       2.95      6.63              1.0\n",
       "1       2.53      7.79              1.0\n",
       "2       3.57      5.65              1.0\n",
       "3       3.16      5.47              1.0\n",
       "4       2.58      4.46              0.0\n",
       "5       2.16      6.22              0.0\n",
       "6       3.27      3.52              0.0"
      ]
     },
     "execution_count": 47,
     "metadata": {},
     "output_type": "execute_result"
    }
   ],
   "source": [
    "n=int(input('enter the no of attributes :'))\n",
    "df=pd.DataFrame()\n",
    "for i in range(n):\n",
    "    m=input('enter the name of attribute :')\n",
    "    df[m]=list(map(float,input().split()))\n",
    "df"
   ]
  },
  {
   "cell_type": "code",
   "execution_count": 73,
   "id": "aaefe917",
   "metadata": {},
   "outputs": [
    {
     "data": {
      "text/plain": [
       "array([[2.95, 2.53, 3.57, 3.16, 2.58, 2.16, 3.27],\n",
       "       [6.63, 7.79, 5.65, 5.47, 4.46, 6.22, 3.52]])"
      ]
     },
     "execution_count": 73,
     "metadata": {},
     "output_type": "execute_result"
    }
   ],
   "source": [
    "x1=[]\n",
    "x2=[]\n",
    "for i in range(len(df)):\n",
    "    l=[]\n",
    "    if df['quality control'][i]==1:\n",
    "        l.append(df['curvature'][i])\n",
    "        l.append(df['diameter'][i])\n",
    "        x1.append(l)\n",
    "    else:\n",
    "        l.append(df['curvature'][i])\n",
    "        l.append(df['diameter'][i])\n",
    "        x2.append(l)\n",
    "x=np.array([df['curvature'],\n",
    "           df['diameter']])\n",
    "x"
   ]
  },
  {
   "cell_type": "code",
   "execution_count": 74,
   "id": "b1eddab2",
   "metadata": {},
   "outputs": [],
   "source": [
    "def men(a):\n",
    "    m1,m2=0,0\n",
    "    for i in a:\n",
    "        m1+=i[0]\n",
    "        m2+=i[1]\n",
    "    return [m1/len(a),m2/len(a)]\n",
    "mew1=men(x1)\n",
    "mew2=men(x2)\n",
    "mew=[]\n",
    "m1,m2=0,0\n",
    "for i in range(len(x[0])):\n",
    "        m1+=x[0][i]\n",
    "        m2+=x[1][i]\n",
    "mew.append(m1/len(x[0]))\n",
    "mew.append(m2/len(x[0]))"
   ]
  },
  {
   "cell_type": "code",
   "execution_count": 76,
   "id": "31a876e5",
   "metadata": {},
   "outputs": [
    {
     "data": {
      "text/plain": [
       "array([[ 0.06142857, -0.35857143,  3.57      ,  3.16      ,  2.58      ,\n",
       "         2.16      ,  3.27      ],\n",
       "       [ 0.95285714,  2.11285714,  5.65      ,  5.47      ,  4.46      ,\n",
       "         6.22      ,  3.52      ]])"
      ]
     },
     "execution_count": 76,
     "metadata": {},
     "output_type": "execute_result"
    }
   ],
   "source": [
    "#### x-mew\n",
    "\n",
    "for i in range(len (x)):\n",
    "    x[0][i]-=mew[0]\n",
    "    x[1][i]-=mew[1]\n",
    "x"
   ]
  },
  {
   "cell_type": "code",
   "execution_count": 75,
   "id": "b4c75289",
   "metadata": {},
   "outputs": [
    {
     "data": {
      "text/plain": [
       "[2.888571428571429, 5.677142857142857]"
      ]
     },
     "execution_count": 75,
     "metadata": {},
     "output_type": "execute_result"
    }
   ],
   "source": [
    "mew"
   ]
  }
 ],
 "metadata": {
  "kernelspec": {
   "display_name": "Python 3 (ipykernel)",
   "language": "python",
   "name": "python3"
  },
  "language_info": {
   "codemirror_mode": {
    "name": "ipython",
    "version": 3
   },
   "file_extension": ".py",
   "mimetype": "text/x-python",
   "name": "python",
   "nbconvert_exporter": "python",
   "pygments_lexer": "ipython3",
   "version": "3.9.7"
  }
 },
 "nbformat": 4,
 "nbformat_minor": 5
}
