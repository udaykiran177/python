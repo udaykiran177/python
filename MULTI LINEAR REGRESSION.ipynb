{
 "cells": [
  {
   "cell_type": "code",
   "execution_count": 43,
   "id": "f26b5697",
   "metadata": {},
   "outputs": [],
   "source": [
    "import numpy as np\n",
    "import pandas as pd\n",
    "from sklearn import linear_model\n",
    "from scipy import stats\n",
    "from math import sqrt"
   ]
  },
  {
   "cell_type": "code",
   "execution_count": 44,
   "id": "0e1dbac7",
   "metadata": {},
   "outputs": [
    {
     "name": "stdout",
     "output_type": "stream",
     "text": [
      "enter the no of variables:3\n"
     ]
    }
   ],
   "source": [
    "n=int(input('enter the no of variables:'))\n",
    "# l=[]\n",
    "# for i in range(n):\n",
    "#     l.append(list(map(int,input().split())))\n",
    "# print(l)"
   ]
  },
  {
   "cell_type": "code",
   "execution_count": 45,
   "id": "06c16e22",
   "metadata": {},
   "outputs": [
    {
     "name": "stdout",
     "output_type": "stream",
     "text": [
      "11 11 8 2 5 5 4\n",
      "enter the variable name:y\n",
      "-5 -4 -1 2 2 3 3\n",
      "enter the variable name:x1\n",
      "5 4 1 -3 -2 -2 -3\n",
      "enter the variable name:x2\n"
     ]
    }
   ],
   "source": [
    "df=pd.DataFrame()\n",
    "for i in range(n):\n",
    "    df[input('enter the variable name:')]=list(map(int,input().split()))"
   ]
  },
  {
   "cell_type": "code",
   "execution_count": 46,
   "id": "c91701bb",
   "metadata": {},
   "outputs": [
    {
     "data": {
      "text/html": [
       "<div>\n",
       "<style scoped>\n",
       "    .dataframe tbody tr th:only-of-type {\n",
       "        vertical-align: middle;\n",
       "    }\n",
       "\n",
       "    .dataframe tbody tr th {\n",
       "        vertical-align: top;\n",
       "    }\n",
       "\n",
       "    .dataframe thead th {\n",
       "        text-align: right;\n",
       "    }\n",
       "</style>\n",
       "<table border=\"1\" class=\"dataframe\">\n",
       "  <thead>\n",
       "    <tr style=\"text-align: right;\">\n",
       "      <th></th>\n",
       "      <th>y</th>\n",
       "      <th>x1</th>\n",
       "      <th>x2</th>\n",
       "    </tr>\n",
       "  </thead>\n",
       "  <tbody>\n",
       "    <tr>\n",
       "      <th>0</th>\n",
       "      <td>11</td>\n",
       "      <td>-5</td>\n",
       "      <td>5</td>\n",
       "    </tr>\n",
       "    <tr>\n",
       "      <th>1</th>\n",
       "      <td>11</td>\n",
       "      <td>-4</td>\n",
       "      <td>4</td>\n",
       "    </tr>\n",
       "    <tr>\n",
       "      <th>2</th>\n",
       "      <td>8</td>\n",
       "      <td>-1</td>\n",
       "      <td>1</td>\n",
       "    </tr>\n",
       "    <tr>\n",
       "      <th>3</th>\n",
       "      <td>2</td>\n",
       "      <td>2</td>\n",
       "      <td>-3</td>\n",
       "    </tr>\n",
       "    <tr>\n",
       "      <th>4</th>\n",
       "      <td>5</td>\n",
       "      <td>2</td>\n",
       "      <td>-2</td>\n",
       "    </tr>\n",
       "    <tr>\n",
       "      <th>5</th>\n",
       "      <td>5</td>\n",
       "      <td>3</td>\n",
       "      <td>-2</td>\n",
       "    </tr>\n",
       "    <tr>\n",
       "      <th>6</th>\n",
       "      <td>4</td>\n",
       "      <td>3</td>\n",
       "      <td>-3</td>\n",
       "    </tr>\n",
       "  </tbody>\n",
       "</table>\n",
       "</div>"
      ],
      "text/plain": [
       "    y  x1  x2\n",
       "0  11  -5   5\n",
       "1  11  -4   4\n",
       "2   8  -1   1\n",
       "3   2   2  -3\n",
       "4   5   2  -2\n",
       "5   5   3  -2\n",
       "6   4   3  -3"
      ]
     },
     "execution_count": 46,
     "metadata": {},
     "output_type": "execute_result"
    }
   ],
   "source": [
    "df"
   ]
  },
  {
   "cell_type": "markdown",
   "id": "b81cec41",
   "metadata": {},
   "source": [
    "# BUILT IN FUN"
   ]
  },
  {
   "cell_type": "code",
   "execution_count": 47,
   "id": "ce71e673",
   "metadata": {},
   "outputs": [
    {
     "data": {
      "text/html": [
       "<div>\n",
       "<style scoped>\n",
       "    .dataframe tbody tr th:only-of-type {\n",
       "        vertical-align: middle;\n",
       "    }\n",
       "\n",
       "    .dataframe tbody tr th {\n",
       "        vertical-align: top;\n",
       "    }\n",
       "\n",
       "    .dataframe thead th {\n",
       "        text-align: right;\n",
       "    }\n",
       "</style>\n",
       "<table border=\"1\" class=\"dataframe\">\n",
       "  <thead>\n",
       "    <tr style=\"text-align: right;\">\n",
       "      <th></th>\n",
       "      <th>x1</th>\n",
       "      <th>x2</th>\n",
       "    </tr>\n",
       "  </thead>\n",
       "  <tbody>\n",
       "    <tr>\n",
       "      <th>0</th>\n",
       "      <td>-5</td>\n",
       "      <td>5</td>\n",
       "    </tr>\n",
       "    <tr>\n",
       "      <th>1</th>\n",
       "      <td>-4</td>\n",
       "      <td>4</td>\n",
       "    </tr>\n",
       "    <tr>\n",
       "      <th>2</th>\n",
       "      <td>-1</td>\n",
       "      <td>1</td>\n",
       "    </tr>\n",
       "    <tr>\n",
       "      <th>3</th>\n",
       "      <td>2</td>\n",
       "      <td>-3</td>\n",
       "    </tr>\n",
       "    <tr>\n",
       "      <th>4</th>\n",
       "      <td>2</td>\n",
       "      <td>-2</td>\n",
       "    </tr>\n",
       "    <tr>\n",
       "      <th>5</th>\n",
       "      <td>3</td>\n",
       "      <td>-2</td>\n",
       "    </tr>\n",
       "    <tr>\n",
       "      <th>6</th>\n",
       "      <td>3</td>\n",
       "      <td>-3</td>\n",
       "    </tr>\n",
       "  </tbody>\n",
       "</table>\n",
       "</div>"
      ],
      "text/plain": [
       "   x1  x2\n",
       "0  -5   5\n",
       "1  -4   4\n",
       "2  -1   1\n",
       "3   2  -3\n",
       "4   2  -2\n",
       "5   3  -2\n",
       "6   3  -3"
      ]
     },
     "execution_count": 47,
     "metadata": {},
     "output_type": "execute_result"
    }
   ],
   "source": [
    "m=df.iloc[:,1:]\n",
    "m"
   ]
  },
  {
   "cell_type": "code",
   "execution_count": 51,
   "id": "3b18d0d3",
   "metadata": {},
   "outputs": [
    {
     "data": {
      "text/plain": [
       "array([1., 2.])"
      ]
     },
     "execution_count": 51,
     "metadata": {},
     "output_type": "execute_result"
    }
   ],
   "source": [
    "reg=linear_model.LinearRegression()\n",
    "reg.fit(m,df['y'])\n",
    "reg.coef_"
   ]
  },
  {
   "cell_type": "markdown",
   "id": "4f5e07fc",
   "metadata": {},
   "source": [
    "# Manual"
   ]
  },
  {
   "cell_type": "code",
   "execution_count": 59,
   "id": "5a75d66a",
   "metadata": {},
   "outputs": [
    {
     "ename": "AttributeError",
     "evalue": "'list' object has no attribute 'shape'",
     "output_type": "error",
     "traceback": [
      "\u001b[1;31m---------------------------------------------------------------------------\u001b[0m",
      "\u001b[1;31mAttributeError\u001b[0m                            Traceback (most recent call last)",
      "\u001b[1;32m~\\AppData\\Local\\Temp/ipykernel_10944/450632336.py\u001b[0m in \u001b[0;36m<module>\u001b[1;34m\u001b[0m\n\u001b[0;32m      5\u001b[0m \u001b[1;33m\u001b[0m\u001b[0m\n\u001b[0;32m      6\u001b[0m \u001b[1;33m\u001b[0m\u001b[0m\n\u001b[1;32m----> 7\u001b[1;33m \u001b[0mXtrans\u001b[0m\u001b[1;33m.\u001b[0m\u001b[0mshape\u001b[0m\u001b[1;33m\u001b[0m\u001b[1;33m\u001b[0m\u001b[0m\n\u001b[0m",
      "\u001b[1;31mAttributeError\u001b[0m: 'list' object has no attribute 'shape'"
     ]
    }
   ],
   "source": [
    "## for insertion of 1's column\n",
    "length=len(df['y'])\n",
    "X=np.ones((length,1))\n",
    "X=np.hstack((X,df.iloc[:,1:]))\n",
    "\n",
    "\n",
    "Xtrans.shape"
   ]
  },
  {
   "cell_type": "code",
   "execution_count": 62,
   "id": "d37b98c2",
   "metadata": {},
   "outputs": [
    {
     "name": "stdout",
     "output_type": "stream",
     "text": [
      "[[11]\n",
      " [11]\n",
      " [ 8]\n",
      " [ 2]\n",
      " [ 5]\n",
      " [ 5]\n",
      " [ 4]]\n",
      "THE COEFFICIENT MATRIX IS: [[6.57142857]\n",
      " [1.        ]\n",
      " [2.        ]]\n"
     ]
    }
   ],
   "source": [
    "\n",
    "y=np.array(df['y']).reshape(len(df['y']),1)\n",
    "\n",
    "#y.\n",
    "#np.shape(y)\n",
    "y=np.matrix(y)\n",
    "print(y)\n",
    "\n",
    "\n",
    "\n",
    "## transpose of matrix\n",
    "\n",
    "Xtrans=[[X[i][j] for i in range(len(X))] for j in range(len(X[0]))]\n",
    "#Xtrans\n",
    "\n",
    "\n",
    "\n",
    "\n",
    "res1= (Xtrans@y)\n",
    "\n",
    "##     inverse of the matrix\n",
    "\n",
    "res =np.linalg.inv(Xtrans@X)@res1\n",
    "\n",
    "\n",
    "print('THE COEFFICIENT MATRIX IS:',res)"
   ]
  },
  {
   "cell_type": "markdown",
   "id": "2a2d769d",
   "metadata": {},
   "source": [
    "# Goodness of fit"
   ]
  },
  {
   "cell_type": "markdown",
   "id": "de9ff1d1",
   "metadata": {},
   "source": [
    "## 1.coefficient of determination"
   ]
  },
  {
   "cell_type": "code",
   "execution_count": 63,
   "id": "d1d821eb",
   "metadata": {},
   "outputs": [],
   "source": [
    "ylist=float(res[0])+float(res[1])*df['x1']+float(res[2])*df['x2']"
   ]
  },
  {
   "cell_type": "code",
   "execution_count": 64,
   "id": "36e2a01a",
   "metadata": {},
   "outputs": [
    {
     "data": {
      "text/plain": [
       "0    11.571429\n",
       "1    10.571429\n",
       "2     7.571429\n",
       "3     2.571429\n",
       "4     4.571429\n",
       "5     5.571429\n",
       "6     3.571429\n",
       "dtype: float64"
      ]
     },
     "execution_count": 64,
     "metadata": {},
     "output_type": "execute_result"
    }
   ],
   "source": [
    "ylist"
   ]
  },
  {
   "cell_type": "code",
   "execution_count": 65,
   "id": "cdfed1df",
   "metadata": {},
   "outputs": [],
   "source": [
    "ydf=pd.DataFrame({'y':df['y']\n",
    "                 ,'y^':list(ylist)})\n",
    "ydf['$']=(ydf['y']-ydf['y^'])**2"
   ]
  },
  {
   "cell_type": "code",
   "execution_count": 66,
   "id": "5e7ebcff",
   "metadata": {},
   "outputs": [
    {
     "name": "stdout",
     "output_type": "stream",
     "text": [
      "It fits in the model\n"
     ]
    }
   ],
   "source": [
    "SSe=sum(ydf['$'])\n",
    "#SSe\n",
    "\n",
    "from statistics import mean\n",
    "avg_of_sales=mean(df['y'])\n",
    "SST=sum((df['y']-avg_of_sales)**2)\n",
    "#SST\n",
    "\n",
    "SSr=SST-SSe\n",
    "\n",
    "R2=SSr/SST\n",
    "if R2>0.90:\n",
    "    print('It fits in the model')\n",
    "else:\n",
    "    print('It won\\'t fit in the model')"
   ]
  },
  {
   "cell_type": "markdown",
   "id": "ae86fcf8",
   "metadata": {},
   "source": [
    "## 2. ANOVA"
   ]
  },
  {
   "cell_type": "code",
   "execution_count": 67,
   "id": "36ff22e0",
   "metadata": {},
   "outputs": [
    {
     "name": "stdout",
     "output_type": "stream",
     "text": [
      "enter the level of significance:0.05\n",
      "Good fit\n"
     ]
    }
   ],
   "source": [
    "msr=SSr/(n-1)\n",
    "mse=SSe/(length-n)\n",
    "los=float(input('enter the level of significance:'))\n",
    "Fcal=msr/mse\n",
    "from scipy import stats\n",
    "Ftab=stats.f.ppf(1-los,n-1,length-n)\n",
    "if Fcal>=Ftab:\n",
    "    print('Good fit')\n",
    "else:\n",
    "    print('Not a Good Fit')"
   ]
  },
  {
   "cell_type": "markdown",
   "id": "fdcab13f",
   "metadata": {},
   "source": [
    "## 3.Test of individual parameters"
   ]
  },
  {
   "cell_type": "code",
   "execution_count": 68,
   "id": "d51161dc",
   "metadata": {},
   "outputs": [],
   "source": [
    "ip=pd.DataFrame()"
   ]
  },
  {
   "cell_type": "code",
   "execution_count": 69,
   "id": "711e947e",
   "metadata": {},
   "outputs": [
    {
     "name": "stdout",
     "output_type": "stream",
     "text": [
      "[0.14285714285714285, 0.5037037037037045, 0.5037037037037045]\n"
     ]
    }
   ],
   "source": [
    "inv_xtransx=np.linalg.inv(Xtrans@X)\n",
    "\n",
    "diag_ele=list(inv_xtransx[i][i] for i in range(n))\n",
    "print(diag_ele)"
   ]
  },
  {
   "cell_type": "code",
   "execution_count": 70,
   "id": "5b04913d",
   "metadata": {},
   "outputs": [
    {
     "data": {
      "text/plain": [
       "[matrix([[26.55811238]]), matrix([[2.15229016]]), matrix([[4.30458032]])]"
      ]
     },
     "execution_count": 70,
     "metadata": {},
     "output_type": "execute_result"
    }
   ],
   "source": [
    "t_val=[]\n",
    "for i in range(n):\n",
    "    res_ele=res[i]/(sqrt(mse*diag_ele[i]))\n",
    "    t_val.append(abs(res_ele))\n",
    "t_val"
   ]
  },
  {
   "cell_type": "code",
   "execution_count": 72,
   "id": "bb586d63",
   "metadata": {},
   "outputs": [
    {
     "data": {
      "text/plain": [
       "2.7764451051977996"
      ]
     },
     "execution_count": 72,
     "metadata": {},
     "output_type": "execute_result"
    }
   ],
   "source": [
    "t_tab=abs(stats.t.ppf(los/2,len(df['y'])-n))\n",
    "t_tab"
   ]
  },
  {
   "cell_type": "code",
   "execution_count": 73,
   "id": "c376c0bf",
   "metadata": {},
   "outputs": [
    {
     "name": "stdout",
     "output_type": "stream",
     "text": [
      "it is contributing to the model\n",
      "it is not contributing to the model\n",
      "it is contributing to the model\n"
     ]
    }
   ],
   "source": [
    "for i in t_val:\n",
    "    if i>t_tab:\n",
    "        print('it is contributing to the model')\n",
    "    else:\n",
    "        print('it is not contributing to the model')"
   ]
  }
 ],
 "metadata": {
  "kernelspec": {
   "display_name": "Python 3 (ipykernel)",
   "language": "python",
   "name": "python3"
  },
  "language_info": {
   "codemirror_mode": {
    "name": "ipython",
    "version": 3
   },
   "file_extension": ".py",
   "mimetype": "text/x-python",
   "name": "python",
   "nbconvert_exporter": "python",
   "pygments_lexer": "ipython3",
   "version": "3.9.7"
  }
 },
 "nbformat": 4,
 "nbformat_minor": 5
}
