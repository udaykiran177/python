{
 "cells": [
  {
   "cell_type": "code",
   "execution_count": 9,
   "id": "0bd6eb51",
   "metadata": {},
   "outputs": [],
   "source": [
    "import numpy as np\n",
    "import pandas as pd\n",
    "from sklearn import linear_model"
   ]
  },
  {
   "cell_type": "code",
   "execution_count": 66,
   "id": "60909a38",
   "metadata": {},
   "outputs": [
    {
     "name": "stdout",
     "output_type": "stream",
     "text": [
      "enter the no of variables:3\n"
     ]
    }
   ],
   "source": [
    "n=int(input('enter the no of variables:'))\n",
    "# l=[]\n",
    "# for i in range(n):\n",
    "#     l.append(list(map(int,input().split())))\n",
    "# print(l)"
   ]
  },
  {
   "cell_type": "code",
   "execution_count": 67,
   "id": "1e19f24d",
   "metadata": {
    "scrolled": true
   },
   "outputs": [
    {
     "name": "stdout",
     "output_type": "stream",
     "text": [
      "100 110 105 94 95 99 104 108 105 98 105 110\n",
      "enter the variable name:sales\n",
      "9 8 7 14 12 10 7 4 6 5 7 6 \n",
      "enter the variable name:precentage_of_absentism\n",
      "62 58 64 60 63 57 55 56 59 61 57 60\n",
      "enter the variable name:breakdown\n"
     ]
    }
   ],
   "source": [
    "df=pd.DataFrame()\n",
    "for i in range(n):\n",
    "    df[input('enter the variable name:')]=list(map(int,input().split()))"
   ]
  },
  {
   "cell_type": "code",
   "execution_count": 81,
   "id": "f2c105d1",
   "metadata": {},
   "outputs": [
    {
     "data": {
      "text/html": [
       "<div>\n",
       "<style scoped>\n",
       "    .dataframe tbody tr th:only-of-type {\n",
       "        vertical-align: middle;\n",
       "    }\n",
       "\n",
       "    .dataframe tbody tr th {\n",
       "        vertical-align: top;\n",
       "    }\n",
       "\n",
       "    .dataframe thead th {\n",
       "        text-align: right;\n",
       "    }\n",
       "</style>\n",
       "<table border=\"1\" class=\"dataframe\">\n",
       "  <thead>\n",
       "    <tr style=\"text-align: right;\">\n",
       "      <th></th>\n",
       "      <th>sales</th>\n",
       "      <th>precentage_of_absentism</th>\n",
       "      <th>breakdown</th>\n",
       "    </tr>\n",
       "  </thead>\n",
       "  <tbody>\n",
       "    <tr>\n",
       "      <th>0</th>\n",
       "      <td>100</td>\n",
       "      <td>9</td>\n",
       "      <td>62</td>\n",
       "    </tr>\n",
       "    <tr>\n",
       "      <th>1</th>\n",
       "      <td>110</td>\n",
       "      <td>8</td>\n",
       "      <td>58</td>\n",
       "    </tr>\n",
       "    <tr>\n",
       "      <th>2</th>\n",
       "      <td>105</td>\n",
       "      <td>7</td>\n",
       "      <td>64</td>\n",
       "    </tr>\n",
       "    <tr>\n",
       "      <th>3</th>\n",
       "      <td>94</td>\n",
       "      <td>14</td>\n",
       "      <td>60</td>\n",
       "    </tr>\n",
       "    <tr>\n",
       "      <th>4</th>\n",
       "      <td>95</td>\n",
       "      <td>12</td>\n",
       "      <td>63</td>\n",
       "    </tr>\n",
       "    <tr>\n",
       "      <th>5</th>\n",
       "      <td>99</td>\n",
       "      <td>10</td>\n",
       "      <td>57</td>\n",
       "    </tr>\n",
       "    <tr>\n",
       "      <th>6</th>\n",
       "      <td>104</td>\n",
       "      <td>7</td>\n",
       "      <td>55</td>\n",
       "    </tr>\n",
       "    <tr>\n",
       "      <th>7</th>\n",
       "      <td>108</td>\n",
       "      <td>4</td>\n",
       "      <td>56</td>\n",
       "    </tr>\n",
       "    <tr>\n",
       "      <th>8</th>\n",
       "      <td>105</td>\n",
       "      <td>6</td>\n",
       "      <td>59</td>\n",
       "    </tr>\n",
       "    <tr>\n",
       "      <th>9</th>\n",
       "      <td>98</td>\n",
       "      <td>5</td>\n",
       "      <td>61</td>\n",
       "    </tr>\n",
       "    <tr>\n",
       "      <th>10</th>\n",
       "      <td>105</td>\n",
       "      <td>7</td>\n",
       "      <td>57</td>\n",
       "    </tr>\n",
       "    <tr>\n",
       "      <th>11</th>\n",
       "      <td>110</td>\n",
       "      <td>6</td>\n",
       "      <td>60</td>\n",
       "    </tr>\n",
       "  </tbody>\n",
       "</table>\n",
       "</div>"
      ],
      "text/plain": [
       "    sales  precentage_of_absentism  breakdown\n",
       "0     100                        9         62\n",
       "1     110                        8         58\n",
       "2     105                        7         64\n",
       "3      94                       14         60\n",
       "4      95                       12         63\n",
       "5      99                       10         57\n",
       "6     104                        7         55\n",
       "7     108                        4         56\n",
       "8     105                        6         59\n",
       "9      98                        5         61\n",
       "10    105                        7         57\n",
       "11    110                        6         60"
      ]
     },
     "execution_count": 81,
     "metadata": {},
     "output_type": "execute_result"
    }
   ],
   "source": [
    "df"
   ]
  },
  {
   "cell_type": "markdown",
   "id": "c1c6ee64",
   "metadata": {},
   "source": [
    "# BUILT IN FUN"
   ]
  },
  {
   "cell_type": "code",
   "execution_count": 72,
   "id": "3d40c16b",
   "metadata": {},
   "outputs": [],
   "source": [
    "m=df.iloc[:,1:]"
   ]
  },
  {
   "cell_type": "code",
   "execution_count": 73,
   "id": "0718970d",
   "metadata": {},
   "outputs": [
    {
     "data": {
      "text/html": [
       "<div>\n",
       "<style scoped>\n",
       "    .dataframe tbody tr th:only-of-type {\n",
       "        vertical-align: middle;\n",
       "    }\n",
       "\n",
       "    .dataframe tbody tr th {\n",
       "        vertical-align: top;\n",
       "    }\n",
       "\n",
       "    .dataframe thead th {\n",
       "        text-align: right;\n",
       "    }\n",
       "</style>\n",
       "<table border=\"1\" class=\"dataframe\">\n",
       "  <thead>\n",
       "    <tr style=\"text-align: right;\">\n",
       "      <th></th>\n",
       "      <th>precentage_of_absentism</th>\n",
       "      <th>breakdown</th>\n",
       "    </tr>\n",
       "  </thead>\n",
       "  <tbody>\n",
       "    <tr>\n",
       "      <th>0</th>\n",
       "      <td>9</td>\n",
       "      <td>62</td>\n",
       "    </tr>\n",
       "    <tr>\n",
       "      <th>1</th>\n",
       "      <td>8</td>\n",
       "      <td>58</td>\n",
       "    </tr>\n",
       "    <tr>\n",
       "      <th>2</th>\n",
       "      <td>7</td>\n",
       "      <td>64</td>\n",
       "    </tr>\n",
       "    <tr>\n",
       "      <th>3</th>\n",
       "      <td>14</td>\n",
       "      <td>60</td>\n",
       "    </tr>\n",
       "    <tr>\n",
       "      <th>4</th>\n",
       "      <td>12</td>\n",
       "      <td>63</td>\n",
       "    </tr>\n",
       "    <tr>\n",
       "      <th>5</th>\n",
       "      <td>10</td>\n",
       "      <td>57</td>\n",
       "    </tr>\n",
       "    <tr>\n",
       "      <th>6</th>\n",
       "      <td>7</td>\n",
       "      <td>55</td>\n",
       "    </tr>\n",
       "    <tr>\n",
       "      <th>7</th>\n",
       "      <td>4</td>\n",
       "      <td>56</td>\n",
       "    </tr>\n",
       "    <tr>\n",
       "      <th>8</th>\n",
       "      <td>6</td>\n",
       "      <td>59</td>\n",
       "    </tr>\n",
       "    <tr>\n",
       "      <th>9</th>\n",
       "      <td>5</td>\n",
       "      <td>61</td>\n",
       "    </tr>\n",
       "    <tr>\n",
       "      <th>10</th>\n",
       "      <td>7</td>\n",
       "      <td>57</td>\n",
       "    </tr>\n",
       "    <tr>\n",
       "      <th>11</th>\n",
       "      <td>6</td>\n",
       "      <td>60</td>\n",
       "    </tr>\n",
       "  </tbody>\n",
       "</table>\n",
       "</div>"
      ],
      "text/plain": [
       "    precentage_of_absentism  breakdown\n",
       "0                         9         62\n",
       "1                         8         58\n",
       "2                         7         64\n",
       "3                        14         60\n",
       "4                        12         63\n",
       "5                        10         57\n",
       "6                         7         55\n",
       "7                         4         56\n",
       "8                         6         59\n",
       "9                         5         61\n",
       "10                        7         57\n",
       "11                        6         60"
      ]
     },
     "execution_count": 73,
     "metadata": {},
     "output_type": "execute_result"
    }
   ],
   "source": [
    "m"
   ]
  },
  {
   "cell_type": "code",
   "execution_count": 79,
   "id": "5092649f",
   "metadata": {},
   "outputs": [
    {
     "data": {
      "text/plain": [
       "LinearRegression()"
      ]
     },
     "execution_count": 79,
     "metadata": {},
     "output_type": "execute_result"
    }
   ],
   "source": [
    "reg=linear_model.LinearRegression()\n",
    "reg.fit(m,df['sales'])"
   ]
  },
  {
   "cell_type": "code",
   "execution_count": 80,
   "id": "9904ae1b",
   "metadata": {},
   "outputs": [
    {
     "data": {
      "text/plain": [
       "array([-1.24850346, -0.35100837])"
      ]
     },
     "execution_count": 80,
     "metadata": {},
     "output_type": "execute_result"
    }
   ],
   "source": [
    "reg.coef_"
   ]
  },
  {
   "cell_type": "markdown",
   "id": "55aa44d9",
   "metadata": {},
   "source": [
    "# MANUAL"
   ]
  },
  {
   "cell_type": "code",
   "execution_count": 101,
   "id": "6abab99b",
   "metadata": {},
   "outputs": [],
   "source": [
    "## for insertion of 1's column\n",
    "length=len(df['sales'])\n",
    "X=np.ones((length,1))\n",
    "X=np.hstack((X,df.iloc[:,1:]))"
   ]
  },
  {
   "cell_type": "code",
   "execution_count": 102,
   "id": "28c65d43",
   "metadata": {},
   "outputs": [
    {
     "data": {
      "text/plain": [
       "array([[ 1.,  9., 62.],\n",
       "       [ 1.,  8., 58.],\n",
       "       [ 1.,  7., 64.],\n",
       "       [ 1., 14., 60.],\n",
       "       [ 1., 12., 63.],\n",
       "       [ 1., 10., 57.],\n",
       "       [ 1.,  7., 55.],\n",
       "       [ 1.,  4., 56.],\n",
       "       [ 1.,  6., 59.],\n",
       "       [ 1.,  5., 61.],\n",
       "       [ 1.,  7., 57.],\n",
       "       [ 1.,  6., 60.]])"
      ]
     },
     "execution_count": 102,
     "metadata": {},
     "output_type": "execute_result"
    }
   ],
   "source": [
    "X"
   ]
  },
  {
   "cell_type": "code",
   "execution_count": 120,
   "id": "cd717dee",
   "metadata": {},
   "outputs": [
    {
     "name": "stdout",
     "output_type": "stream",
     "text": [
      "[[100]\n",
      " [110]\n",
      " [105]\n",
      " [ 94]\n",
      " [ 95]\n",
      " [ 99]\n",
      " [104]\n",
      " [108]\n",
      " [105]\n",
      " [ 98]\n",
      " [105]\n",
      " [110]]\n"
     ]
    }
   ],
   "source": [
    "y=np.array(df['sales']).reshape(12,1)\n",
    "\n",
    "#y.\n",
    "#np.shape(y)\n",
    "y=np.matrix(y)\n",
    "print(y)"
   ]
  },
  {
   "cell_type": "code",
   "execution_count": 124,
   "id": "2066a4e9",
   "metadata": {
    "scrolled": true
   },
   "outputs": [],
   "source": [
    "## transpose of matrix\n",
    "\n",
    "Xtrans=[[X[i][j] for i in range(len(X))] for j in range(len(X[0]))]\n",
    "#Xtrans\n",
    "\n",
    "\n"
   ]
  },
  {
   "cell_type": "code",
   "execution_count": 132,
   "id": "6fc87df2",
   "metadata": {},
   "outputs": [],
   "source": [
    "res1= (Xtrans*y)\n",
    "\n",
    "##     inverse of the matrix\n",
    "\n",
    "res =np.linalg.inv(Xtrans@X)@res1"
   ]
  },
  {
   "cell_type": "code",
   "execution_count": 134,
   "id": "028ce2b2",
   "metadata": {},
   "outputs": [
    {
     "name": "stdout",
     "output_type": "stream",
     "text": [
      "THE COEFFICIENT MATRIX IS: [[133.46048243]\n",
      " [ -1.24850346]\n",
      " [ -0.35100837]]\n"
     ]
    }
   ],
   "source": [
    "print('THE COEFFICIENT MATRIX IS:',res)"
   ]
  },
  {
   "cell_type": "markdown",
   "id": "93765a23",
   "metadata": {},
   "source": [
    "# GOODNESS OF FIT"
   ]
  },
  {
   "cell_type": "markdown",
   "id": "d02de56b",
   "metadata": {},
   "source": [
    "## 1.COEFFICIENT OF DETERMINATION"
   ]
  },
  {
   "cell_type": "code",
   "execution_count": 136,
   "id": "02971bd0",
   "metadata": {},
   "outputs": [],
   "source": [
    "ylist=float(res[0])+float(res[1])*df['precentage_of_absentism']+float(res[2])*df['breakdown']"
   ]
  },
  {
   "cell_type": "code",
   "execution_count": 137,
   "id": "c95ed79f",
   "metadata": {},
   "outputs": [
    {
     "data": {
      "text/plain": [
       "0     100.461432\n",
       "1     103.113969\n",
       "2     102.256422\n",
       "3      94.920932\n",
       "4      96.364914\n",
       "5     100.967971\n",
       "6     105.415498\n",
       "7     108.810000\n",
       "8     105.259968\n",
       "9     105.806454\n",
       "10    104.713481\n",
       "11    104.908959\n",
       "dtype: float64"
      ]
     },
     "execution_count": 137,
     "metadata": {},
     "output_type": "execute_result"
    }
   ],
   "source": [
    "ylist"
   ]
  },
  {
   "cell_type": "code",
   "execution_count": 151,
   "id": "5bf9c554",
   "metadata": {},
   "outputs": [],
   "source": [
    "ydf=pd.DataFrame({'y':df['sales']\n",
    "                 ,'y^':list(ylist)})\n",
    "ydf['$']=(ydf['y']-ydf['y^'])**2"
   ]
  },
  {
   "cell_type": "code",
   "execution_count": 159,
   "id": "521d2a5d",
   "metadata": {},
   "outputs": [
    {
     "name": "stdout",
     "output_type": "stream",
     "text": [
      "it won't fit in the model\n"
     ]
    }
   ],
   "source": [
    "SSe=sum(ydf['$'])\n",
    "#SSe\n",
    "\n",
    "from statistics import mean\n",
    "avg_of_sales=mean(df['sales'])\n",
    "SST=sum((df['sales']-avg_of_sales)**2)\n",
    "#SST\n",
    "\n",
    "SSr=SST-SSe\n",
    "\n",
    "R2=SSr/SST\n",
    "if R2>0.90:\n",
    "    print('It fits in the model')\n",
    "else:\n",
    "    print('It won\\'t fit in the model')"
   ]
  },
  {
   "cell_type": "markdown",
   "id": "0acfbe99",
   "metadata": {},
   "source": [
    "## 2.ANOVA CLASSIFICATION"
   ]
  },
  {
   "cell_type": "code",
   "execution_count": 160,
   "id": "1e94c368",
   "metadata": {},
   "outputs": [
    {
     "data": {
      "text/plain": [
       "5.315210440935849"
      ]
     },
     "execution_count": 160,
     "metadata": {},
     "output_type": "execute_result"
    }
   ],
   "source": [
    "msr=SSr/(n-1)\n",
    "mse=SSe/(length-n)\n",
    "\n",
    "Fcal=msr/mse\n",
    "\n",
    "Ftab="
   ]
  }
 ],
 "metadata": {
  "kernelspec": {
   "display_name": "Python 3 (ipykernel)",
   "language": "python",
   "name": "python3"
  },
  "language_info": {
   "codemirror_mode": {
    "name": "ipython",
    "version": 3
   },
   "file_extension": ".py",
   "mimetype": "text/x-python",
   "name": "python",
   "nbconvert_exporter": "python",
   "pygments_lexer": "ipython3",
   "version": "3.9.7"
  }
 },
 "nbformat": 4,
 "nbformat_minor": 5
}
